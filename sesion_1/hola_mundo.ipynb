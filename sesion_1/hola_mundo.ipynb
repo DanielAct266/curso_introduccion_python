{
 "cells": [
  {
   "cell_type": "markdown",
   "id": "888fe317",
   "metadata": {},
   "source": [
    "## Filosofía de Python\n",
    "(Zen of Python)"
   ]
  },
  {
   "cell_type": "code",
   "execution_count": 14,
   "id": "9f672263",
   "metadata": {},
   "outputs": [],
   "source": [
    "import this"
   ]
  },
  {
   "cell_type": "markdown",
   "id": "46c1b116",
   "metadata": {},
   "source": [
    "## Primeros pasos en Python"
   ]
  },
  {
   "cell_type": "code",
   "execution_count": 1,
   "id": "5af245b0",
   "metadata": {},
   "outputs": [
    {
     "name": "stdout",
     "output_type": "stream",
     "text": [
      "Hola Mundo\n"
     ]
    }
   ],
   "source": [
    "## Nuestro primer programa en Python\n",
    "print(\"Hola Mundo\")"
   ]
  },
  {
   "cell_type": "markdown",
   "id": "58ab09a9",
   "metadata": {},
   "source": [
    "## Variables\n",
    "\n",
    "Una variable es una etiqueta que va a apuntar a algún de la memoría, de modo que podamos referenciarlo y utilizar lo que almacenamos más adelante.\n",
    "\n",
    "Hay cierta convenciones para las variables en python. Se utilizan en general letras minúsculas para la creación de variables. (OJO: Python diferencia entre minúsculas y mayúsculas).\n",
    "\n",
    "Cuando creamos una variable, el nombre de la variable se almacena en el Namespace. El namespace es una lista de las variables que se han creado, que asocia el nombre de la variable con la dirección en la memoria."
   ]
  },
  {
   "cell_type": "code",
   "execution_count": 7,
   "id": "6cb8b4e9",
   "metadata": {},
   "outputs": [
    {
     "name": "stdout",
     "output_type": "stream",
     "text": [
      "hola\n"
     ]
    }
   ],
   "source": [
    "print('hola')"
   ]
  },
  {
   "cell_type": "code",
   "execution_count": 5,
   "id": "813c15ec",
   "metadata": {},
   "outputs": [],
   "source": [
    "saludo = 'hola'\n",
    "numero = 3\n",
    "expresión = 344.4"
   ]
  },
  {
   "cell_type": "code",
   "execution_count": 8,
   "id": "edc66bb8",
   "metadata": {},
   "outputs": [
    {
     "name": "stdout",
     "output_type": "stream",
     "text": [
      "hola\n",
      "¿Cómo estás?\n",
      "hola\n"
     ]
    }
   ],
   "source": [
    "print(a)\n",
    "print(\"¿Cómo estás?\")\n",
    "#. ....\n",
    "\n",
    "print(a)"
   ]
  },
  {
   "cell_type": "code",
   "execution_count": 9,
   "id": "02c33fad",
   "metadata": {},
   "outputs": [
    {
     "data": {
      "text/plain": [
       "140316045166576"
      ]
     },
     "execution_count": 9,
     "metadata": {},
     "output_type": "execute_result"
    }
   ],
   "source": [
    "id(a)"
   ]
  },
  {
   "cell_type": "markdown",
   "id": "467a0164",
   "metadata": {},
   "source": [
    "## Palabras o expresiones reservadas\n",
    "True, False, print, list, ...\n",
    "Existen en el Namespace y NO las debemos usar como nombres de variables"
   ]
  },
  {
   "cell_type": "code",
   "execution_count": null,
   "id": "3562d5c2",
   "metadata": {},
   "outputs": [],
   "source": []
  },
  {
   "cell_type": "code",
   "execution_count": null,
   "id": "e36a6443",
   "metadata": {},
   "outputs": [],
   "source": []
  }
 ],
 "metadata": {
  "kernelspec": {
   "display_name": "Python 3",
   "language": "python",
   "name": "python3"
  },
  "language_info": {
   "codemirror_mode": {
    "name": "ipython",
    "version": 3
   },
   "file_extension": ".py",
   "mimetype": "text/x-python",
   "name": "python",
   "nbconvert_exporter": "python",
   "pygments_lexer": "ipython3",
   "version": "3.8.8"
  }
 },
 "nbformat": 4,
 "nbformat_minor": 5
}
