{
 "cells": [
  {
   "cell_type": "markdown",
   "id": "308b5387",
   "metadata": {},
   "source": [
    "# Sesión 2:"
   ]
  },
  {
   "cell_type": "markdown",
   "id": "2051912c",
   "metadata": {},
   "source": [
    "Algunos comentarios:\n",
    "- Python es un lenguaje multipropósito, pero que en esencia es orientado a objetos\n",
    "- Todo en Python es un objeto"
   ]
  },
  {
   "cell_type": "markdown",
   "id": "cad7832a",
   "metadata": {},
   "source": [
    "## Variables"
   ]
  },
  {
   "cell_type": "markdown",
   "id": "a7c8cbd5",
   "metadata": {},
   "source": [
    "Una variable es una referencia a una dirección en la memoria de la computadora, recordemos que NO es lomismo que el objeto almacenado"
   ]
  },
  {
   "cell_type": "code",
   "execution_count": 1,
   "id": "2e287543",
   "metadata": {},
   "outputs": [],
   "source": [
    "my_var = 'Esto es un string'"
   ]
  },
  {
   "cell_type": "markdown",
   "id": "882bf8cf",
   "metadata": {},
   "source": [
    "## No se pueden utilizar ciertos nombres\n",
    "\n",
    "None, True, False, and, or, not, def, int, float, for, if, elif, else, while, break, continue, pass,\n",
    "lambda, global, nonlocal, return, yield."
   ]
  },
  {
   "cell_type": "code",
   "execution_count": 3,
   "id": "dab9ee49",
   "metadata": {},
   "outputs": [
    {
     "data": {
      "text/plain": [
       "140674944793776"
      ]
     },
     "execution_count": 3,
     "metadata": {},
     "output_type": "execute_result"
    }
   ],
   "source": [
    "id(my_var)"
   ]
  },
  {
   "cell_type": "markdown",
   "id": "1f0b9e1d",
   "metadata": {},
   "source": [
    "## Jerarquía de tipos "
   ]
  },
  {
   "cell_type": "markdown",
   "id": "d4a06b64",
   "metadata": {},
   "source": [
    "## Numbers"
   ]
  },
  {
   "cell_type": "markdown",
   "id": "9f7b2122",
   "metadata": {},
   "source": [
    "En python existen los siguientes tipos de números: Integers, Booleans, Float, Decimals, Complex, entre otros."
   ]
  },
  {
   "cell_type": "markdown",
   "id": "a22a55d0",
   "metadata": {},
   "source": [
    "Los números de punto flotante son un modelo que permite aproximar una gran cantidad de números reales. Para mayor detalle consultar libros de análisis numérico o de cómputo científico."
   ]
  },
  {
   "cell_type": "markdown",
   "id": "9ecf6e00",
   "metadata": {},
   "source": [
    "### Operaciones Artiméticas clásicas"
   ]
  },
  {
   "cell_type": "code",
   "execution_count": 13,
   "id": "88628950",
   "metadata": {},
   "outputs": [
    {
     "data": {
      "text/plain": [
       "2"
      ]
     },
     "execution_count": 13,
     "metadata": {},
     "output_type": "execute_result"
    }
   ],
   "source": [
    "1 + 1"
   ]
  },
  {
   "cell_type": "code",
   "execution_count": 14,
   "id": "bc24c674",
   "metadata": {},
   "outputs": [
    {
     "data": {
      "text/plain": [
       "10"
      ]
     },
     "execution_count": 14,
     "metadata": {},
     "output_type": "execute_result"
    }
   ],
   "source": [
    "1 + 2 + 3 + 4 "
   ]
  },
  {
   "cell_type": "code",
   "execution_count": 17,
   "id": "f608ada6",
   "metadata": {},
   "outputs": [
    {
     "data": {
      "text/plain": [
       "45"
      ]
     },
     "execution_count": 17,
     "metadata": {},
     "output_type": "execute_result"
    }
   ],
   "source": [
    "9*5"
   ]
  },
  {
   "cell_type": "code",
   "execution_count": 18,
   "id": "63d7eca4",
   "metadata": {},
   "outputs": [
    {
     "data": {
      "text/plain": [
       "1.8"
      ]
     },
     "execution_count": 18,
     "metadata": {},
     "output_type": "execute_result"
    }
   ],
   "source": [
    "9 / 5"
   ]
  },
  {
   "cell_type": "markdown",
   "id": "944e784e",
   "metadata": {},
   "source": [
    "### Exponenciación"
   ]
  },
  {
   "cell_type": "code",
   "execution_count": 29,
   "id": "238c05d7",
   "metadata": {},
   "outputs": [
    {
     "data": {
      "text/plain": [
       "16"
      ]
     },
     "execution_count": 29,
     "metadata": {},
     "output_type": "execute_result"
    }
   ],
   "source": [
    "(2**4)"
   ]
  },
  {
   "cell_type": "code",
   "execution_count": 30,
   "id": "a405ce35",
   "metadata": {},
   "outputs": [
    {
     "data": {
      "text/plain": [
       "-1"
      ]
     },
     "execution_count": 30,
     "metadata": {},
     "output_type": "execute_result"
    }
   ],
   "source": [
    "2 - 3 "
   ]
  },
  {
   "cell_type": "code",
   "execution_count": 31,
   "id": "ea1cdb11",
   "metadata": {},
   "outputs": [
    {
     "data": {
      "text/plain": [
       "-3"
      ]
     },
     "execution_count": 31,
     "metadata": {},
     "output_type": "execute_result"
    }
   ],
   "source": [
    "6 - 9"
   ]
  },
  {
   "cell_type": "code",
   "execution_count": 32,
   "id": "c5fbfd4e",
   "metadata": {},
   "outputs": [
    {
     "data": {
      "text/plain": [
       "16.75"
      ]
     },
     "execution_count": 32,
     "metadata": {},
     "output_type": "execute_result"
    }
   ],
   "source": [
    "2.5 * 6.7"
   ]
  },
  {
   "cell_type": "code",
   "execution_count": 33,
   "id": "07018f7d",
   "metadata": {},
   "outputs": [
    {
     "data": {
      "text/plain": [
       "0.3731343283582089"
      ]
     },
     "execution_count": 33,
     "metadata": {},
     "output_type": "execute_result"
    }
   ],
   "source": [
    "2.5 / 6.7"
   ]
  },
  {
   "cell_type": "code",
   "execution_count": 34,
   "id": "7564d5cc",
   "metadata": {},
   "outputs": [
    {
     "data": {
      "text/plain": [
       "463.65832088157595"
      ]
     },
     "execution_count": 34,
     "metadata": {},
     "output_type": "execute_result"
    }
   ],
   "source": [
    "2.5 ** 6.7"
   ]
  },
  {
   "cell_type": "code",
   "execution_count": 58,
   "id": "fd8a0c8d",
   "metadata": {},
   "outputs": [
    {
     "data": {
      "text/plain": [
       "(True, False)"
      ]
     },
     "execution_count": 58,
     "metadata": {},
     "output_type": "execute_result"
    }
   ],
   "source": [
    "True, False"
   ]
  },
  {
   "cell_type": "code",
   "execution_count": 81,
   "id": "276dd0cc",
   "metadata": {},
   "outputs": [
    {
     "name": "stdout",
     "output_type": "stream",
     "text": [
      "Help on bool object:\n",
      "\n",
      "class bool(int)\n",
      " |  bool(x) -> bool\n",
      " |  \n",
      " |  Returns True when the argument x is true, False otherwise.\n",
      " |  The builtins True and False are the only two instances of the class bool.\n",
      " |  The class bool is a subclass of the class int, and cannot be subclassed.\n",
      " |  \n",
      " |  Method resolution order:\n",
      " |      bool\n",
      " |      int\n",
      " |      object\n",
      " |  \n",
      " |  Methods defined here:\n",
      " |  \n",
      " |  __and__(self, value, /)\n",
      " |      Return self&value.\n",
      " |  \n",
      " |  __or__(self, value, /)\n",
      " |      Return self|value.\n",
      " |  \n",
      " |  __rand__(self, value, /)\n",
      " |      Return value&self.\n",
      " |  \n",
      " |  __repr__(self, /)\n",
      " |      Return repr(self).\n",
      " |  \n",
      " |  __ror__(self, value, /)\n",
      " |      Return value|self.\n",
      " |  \n",
      " |  __rxor__(self, value, /)\n",
      " |      Return value^self.\n",
      " |  \n",
      " |  __xor__(self, value, /)\n",
      " |      Return self^value.\n",
      " |  \n",
      " |  ----------------------------------------------------------------------\n",
      " |  Static methods defined here:\n",
      " |  \n",
      " |  __new__(*args, **kwargs) from builtins.type\n",
      " |      Create and return a new object.  See help(type) for accurate signature.\n",
      " |  \n",
      " |  ----------------------------------------------------------------------\n",
      " |  Methods inherited from int:\n",
      " |  \n",
      " |  __abs__(self, /)\n",
      " |      abs(self)\n",
      " |  \n",
      " |  __add__(self, value, /)\n",
      " |      Return self+value.\n",
      " |  \n",
      " |  __bool__(self, /)\n",
      " |      self != 0\n",
      " |  \n",
      " |  __ceil__(...)\n",
      " |      Ceiling of an Integral returns itself.\n",
      " |  \n",
      " |  __divmod__(self, value, /)\n",
      " |      Return divmod(self, value).\n",
      " |  \n",
      " |  __eq__(self, value, /)\n",
      " |      Return self==value.\n",
      " |  \n",
      " |  __float__(self, /)\n",
      " |      float(self)\n",
      " |  \n",
      " |  __floor__(...)\n",
      " |      Flooring an Integral returns itself.\n",
      " |  \n",
      " |  __floordiv__(self, value, /)\n",
      " |      Return self//value.\n",
      " |  \n",
      " |  __format__(self, format_spec, /)\n",
      " |      Default object formatter.\n",
      " |  \n",
      " |  __ge__(self, value, /)\n",
      " |      Return self>=value.\n",
      " |  \n",
      " |  __getattribute__(self, name, /)\n",
      " |      Return getattr(self, name).\n",
      " |  \n",
      " |  __getnewargs__(self, /)\n",
      " |  \n",
      " |  __gt__(self, value, /)\n",
      " |      Return self>value.\n",
      " |  \n",
      " |  __hash__(self, /)\n",
      " |      Return hash(self).\n",
      " |  \n",
      " |  __index__(self, /)\n",
      " |      Return self converted to an integer, if self is suitable for use as an index into a list.\n",
      " |  \n",
      " |  __int__(self, /)\n",
      " |      int(self)\n",
      " |  \n",
      " |  __invert__(self, /)\n",
      " |      ~self\n",
      " |  \n",
      " |  __le__(self, value, /)\n",
      " |      Return self<=value.\n",
      " |  \n",
      " |  __lshift__(self, value, /)\n",
      " |      Return self<<value.\n",
      " |  \n",
      " |  __lt__(self, value, /)\n",
      " |      Return self<value.\n",
      " |  \n",
      " |  __mod__(self, value, /)\n",
      " |      Return self%value.\n",
      " |  \n",
      " |  __mul__(self, value, /)\n",
      " |      Return self*value.\n",
      " |  \n",
      " |  __ne__(self, value, /)\n",
      " |      Return self!=value.\n",
      " |  \n",
      " |  __neg__(self, /)\n",
      " |      -self\n",
      " |  \n",
      " |  __pos__(self, /)\n",
      " |      +self\n",
      " |  \n",
      " |  __pow__(self, value, mod=None, /)\n",
      " |      Return pow(self, value, mod).\n",
      " |  \n",
      " |  __radd__(self, value, /)\n",
      " |      Return value+self.\n",
      " |  \n",
      " |  __rdivmod__(self, value, /)\n",
      " |      Return divmod(value, self).\n",
      " |  \n",
      " |  __rfloordiv__(self, value, /)\n",
      " |      Return value//self.\n",
      " |  \n",
      " |  __rlshift__(self, value, /)\n",
      " |      Return value<<self.\n",
      " |  \n",
      " |  __rmod__(self, value, /)\n",
      " |      Return value%self.\n",
      " |  \n",
      " |  __rmul__(self, value, /)\n",
      " |      Return value*self.\n",
      " |  \n",
      " |  __round__(...)\n",
      " |      Rounding an Integral returns itself.\n",
      " |      Rounding with an ndigits argument also returns an integer.\n",
      " |  \n",
      " |  __rpow__(self, value, mod=None, /)\n",
      " |      Return pow(value, self, mod).\n",
      " |  \n",
      " |  __rrshift__(self, value, /)\n",
      " |      Return value>>self.\n",
      " |  \n",
      " |  __rshift__(self, value, /)\n",
      " |      Return self>>value.\n",
      " |  \n",
      " |  __rsub__(self, value, /)\n",
      " |      Return value-self.\n",
      " |  \n",
      " |  __rtruediv__(self, value, /)\n",
      " |      Return value/self.\n",
      " |  \n",
      " |  __sizeof__(self, /)\n",
      " |      Returns size in memory, in bytes.\n",
      " |  \n",
      " |  __sub__(self, value, /)\n",
      " |      Return self-value.\n",
      " |  \n",
      " |  __truediv__(self, value, /)\n",
      " |      Return self/value.\n",
      " |  \n",
      " |  __trunc__(...)\n",
      " |      Truncating an Integral returns itself.\n",
      " |  \n",
      " |  as_integer_ratio(self, /)\n",
      " |      Return integer ratio.\n",
      " |      \n",
      " |      Return a pair of integers, whose ratio is exactly equal to the original int\n",
      " |      and with a positive denominator.\n",
      " |      \n",
      " |      >>> (10).as_integer_ratio()\n",
      " |      (10, 1)\n",
      " |      >>> (-10).as_integer_ratio()\n",
      " |      (-10, 1)\n",
      " |      >>> (0).as_integer_ratio()\n",
      " |      (0, 1)\n",
      " |  \n",
      " |  bit_length(self, /)\n",
      " |      Number of bits necessary to represent self in binary.\n",
      " |      \n",
      " |      >>> bin(37)\n",
      " |      '0b100101'\n",
      " |      >>> (37).bit_length()\n",
      " |      6\n",
      " |  \n",
      " |  conjugate(...)\n",
      " |      Returns self, the complex conjugate of any int.\n",
      " |  \n",
      " |  to_bytes(self, /, length, byteorder, *, signed=False)\n",
      " |      Return an array of bytes representing an integer.\n",
      " |      \n",
      " |      length\n",
      " |        Length of bytes object to use.  An OverflowError is raised if the\n",
      " |        integer is not representable with the given number of bytes.\n",
      " |      byteorder\n",
      " |        The byte order used to represent the integer.  If byteorder is 'big',\n",
      " |        the most significant byte is at the beginning of the byte array.  If\n",
      " |        byteorder is 'little', the most significant byte is at the end of the\n",
      " |        byte array.  To request the native byte order of the host system, use\n",
      " |        `sys.byteorder' as the byte order value.\n",
      " |      signed\n",
      " |        Determines whether two's complement is used to represent the integer.\n",
      " |        If signed is False and a negative integer is given, an OverflowError\n",
      " |        is raised.\n",
      " |  \n",
      " |  ----------------------------------------------------------------------\n",
      " |  Class methods inherited from int:\n",
      " |  \n",
      " |  from_bytes(bytes, byteorder, *, signed=False) from builtins.type\n",
      " |      Return the integer represented by the given array of bytes.\n",
      " |      \n",
      " |      bytes\n",
      " |        Holds the array of bytes to convert.  The argument must either\n",
      " |        support the buffer protocol or be an iterable object producing bytes.\n",
      " |        Bytes and bytearray are examples of built-in objects that support the\n",
      " |        buffer protocol.\n",
      " |      byteorder\n",
      " |        The byte order used to represent the integer.  If byteorder is 'big',\n",
      " |        the most significant byte is at the beginning of the byte array.  If\n",
      " |        byteorder is 'little', the most significant byte is at the end of the\n",
      " |        byte array.  To request the native byte order of the host system, use\n",
      " |        `sys.byteorder' as the byte order value.\n",
      " |      signed\n",
      " |        Indicates whether two's complement is used to represent the integer.\n",
      " |  \n",
      " |  ----------------------------------------------------------------------\n",
      " |  Data descriptors inherited from int:\n",
      " |  \n",
      " |  denominator\n",
      " |      the denominator of a rational number in lowest terms\n",
      " |  \n",
      " |  imag\n",
      " |      the imaginary part of a complex number\n",
      " |  \n",
      " |  numerator\n",
      " |      the numerator of a rational number in lowest terms\n",
      " |  \n",
      " |  real\n",
      " |      the real part of a complex number\n",
      "\n"
     ]
    }
   ],
   "source": [
    "### La función help nos regresa la documentación de un objeto.\n",
    "help(True)"
   ]
  },
  {
   "cell_type": "markdown",
   "id": "a268d67c",
   "metadata": {},
   "source": [
    "## Collections"
   ]
  },
  {
   "cell_type": "markdown",
   "id": "bed400aa",
   "metadata": {},
   "source": [
    "### Sequences\n",
    "Son secuencias, es decir, implican un orden en sus elementos, abarcan: Lists, Tuples y Strings"
   ]
  },
  {
   "cell_type": "markdown",
   "id": "5d7d7e48",
   "metadata": {},
   "source": [
    " - Las listas son sequences mutables\n",
    " - Los tuples son sequences inmutables\n",
    " - Los strings también son inmutables"
   ]
  },
  {
   "cell_type": "code",
   "execution_count": 51,
   "id": "4d1afc48",
   "metadata": {},
   "outputs": [],
   "source": [
    "my_var = [1, 4, 3]"
   ]
  },
  {
   "cell_type": "code",
   "execution_count": 8,
   "id": "22e8958b",
   "metadata": {},
   "outputs": [],
   "source": [
    "my_var.append(4)"
   ]
  },
  {
   "cell_type": "code",
   "execution_count": 9,
   "id": "9ba00033",
   "metadata": {},
   "outputs": [
    {
     "name": "stdout",
     "output_type": "stream",
     "text": [
      "[1, 2, 3, 4]\n"
     ]
    }
   ],
   "source": [
    "print(my_var)"
   ]
  },
  {
   "cell_type": "code",
   "execution_count": 5,
   "id": "504f8d27",
   "metadata": {},
   "outputs": [],
   "source": [
    "my_var = (1, 2, 3)"
   ]
  },
  {
   "cell_type": "code",
   "execution_count": 36,
   "id": "92012750",
   "metadata": {},
   "outputs": [],
   "source": [
    "my_string = 'Esto es un string'"
   ]
  },
  {
   "cell_type": "code",
   "execution_count": 35,
   "id": "fef43dac",
   "metadata": {},
   "outputs": [],
   "source": [
    "my_other_string = \"Esto es otro string\""
   ]
  },
  {
   "cell_type": "code",
   "execution_count": 39,
   "id": "519408b8",
   "metadata": {},
   "outputs": [],
   "source": [
    "my_list = [1, 4.5, 'hola', [1, 2, 3], ('', 6, 6)]"
   ]
  },
  {
   "cell_type": "code",
   "execution_count": 40,
   "id": "437a34b8",
   "metadata": {},
   "outputs": [
    {
     "name": "stdout",
     "output_type": "stream",
     "text": [
      "[1, 4.5, 'hola', [1, 2, 3], ('', 6, 6)]\n"
     ]
    }
   ],
   "source": [
    "print(my_list)"
   ]
  },
  {
   "cell_type": "markdown",
   "id": "354b033b",
   "metadata": {},
   "source": [
    "## Sets\n",
    "Los conjuntos no tienen un orden asociado, esta es la principal diferencia entre ellos y las listas, pues ambos son mutables"
   ]
  },
  {
   "cell_type": "code",
   "execution_count": 41,
   "id": "9e342e3e",
   "metadata": {},
   "outputs": [],
   "source": [
    "my_set = {1, 2, 3, 4}"
   ]
  },
  {
   "cell_type": "code",
   "execution_count": 48,
   "id": "7657ea28",
   "metadata": {},
   "outputs": [],
   "source": [
    "my_set = {'string', (1, 2,3), 5.6}"
   ]
  },
  {
   "cell_type": "code",
   "execution_count": 49,
   "id": "981b21ba",
   "metadata": {},
   "outputs": [],
   "source": [
    "my_set.add(1)"
   ]
  },
  {
   "cell_type": "code",
   "execution_count": 50,
   "id": "421b39db",
   "metadata": {},
   "outputs": [
    {
     "name": "stdout",
     "output_type": "stream",
     "text": [
      "{1, 5.6, (1, 2, 3), 'string'}\n"
     ]
    }
   ],
   "source": [
    "print(my_set)"
   ]
  },
  {
   "cell_type": "markdown",
   "id": "52db87f4",
   "metadata": {},
   "source": [
    "## Mappings\n",
    "Los mappings abarcan a los diccionarios, que son una estructura de datos en la que se almacena información asociada a alguna llave (key)."
   ]
  },
  {
   "cell_type": "code",
   "execution_count": 55,
   "id": "6398a8bb",
   "metadata": {},
   "outputs": [],
   "source": [
    "my_dict = {'Name': ['Daniel', 'Pedro', 'Enrique', 'Alejandra'], \n",
    "           'Last Name': ['Guerra', 'Ortiz', 'López', 'Herrera']}"
   ]
  },
  {
   "cell_type": "code",
   "execution_count": 56,
   "id": "db5c4e16",
   "metadata": {},
   "outputs": [
    {
     "data": {
      "text/plain": [
       "['Daniel', 'Pedro', 'Enrique', 'Alejandra']"
      ]
     },
     "execution_count": 56,
     "metadata": {},
     "output_type": "execute_result"
    }
   ],
   "source": [
    "my_dict['Name']"
   ]
  },
  {
   "cell_type": "code",
   "execution_count": 57,
   "id": "252529e6",
   "metadata": {},
   "outputs": [
    {
     "data": {
      "text/plain": [
       "['Guerra', 'Ortiz', 'López', 'Herrera']"
      ]
     },
     "execution_count": 57,
     "metadata": {},
     "output_type": "execute_result"
    }
   ],
   "source": [
    "my_dict['Last Name']"
   ]
  },
  {
   "cell_type": "markdown",
   "id": "3e0974b7",
   "metadata": {},
   "source": [
    "## Callables"
   ]
  },
  {
   "cell_type": "markdown",
   "id": "0a184e9d",
   "metadata": {},
   "source": [
    "### Funciones"
   ]
  },
  {
   "cell_type": "code",
   "execution_count": 2,
   "id": "b10f1272",
   "metadata": {},
   "outputs": [],
   "source": [
    "def square_real(x):\n",
    "    return x**2"
   ]
  },
  {
   "cell_type": "code",
   "execution_count": 3,
   "id": "e7cb98f7",
   "metadata": {},
   "outputs": [
    {
     "data": {
      "text/plain": [
       "36"
      ]
     },
     "execution_count": 3,
     "metadata": {},
     "output_type": "execute_result"
    }
   ],
   "source": [
    "square_real(6)"
   ]
  },
  {
   "cell_type": "code",
   "execution_count": 4,
   "id": "d6ff784c",
   "metadata": {},
   "outputs": [
    {
     "data": {
      "image/png": "[encoded data removed]",
      "text/plain": [
       "<Figure size 432x288 with 1 Axes>"
      ]
     },
     "metadata": {},
     "output_type": "display_data"
    }
   ],
   "source": [
    "import matplotlib.pyplot as plt\n",
    "\n",
    "dom = [x for x in range(1, 100)]\n",
    "img = [square_real(x) for x in dom]\n",
    "\n",
    "plt.style.use('ggplot')\n",
    "\n",
    "plt.plot(dom, img)\n",
    "plt.show()"
   ]
  },
  {
   "cell_type": "markdown",
   "id": "93ccdd60",
   "metadata": {},
   "source": [
    "## Singletons"
   ]
  },
  {
   "cell_type": "code",
   "execution_count": 66,
   "id": "d094d1e5",
   "metadata": {},
   "outputs": [],
   "source": [
    "None"
   ]
  },
  {
   "cell_type": "code",
   "execution_count": 67,
   "id": "22ed5fff",
   "metadata": {},
   "outputs": [],
   "source": [
    "a = None"
   ]
  },
  {
   "cell_type": "code",
   "execution_count": 68,
   "id": "76e37b91",
   "metadata": {},
   "outputs": [],
   "source": [
    "b = None"
   ]
  },
  {
   "cell_type": "code",
   "execution_count": 70,
   "id": "e207778d",
   "metadata": {},
   "outputs": [
    {
     "data": {
      "text/plain": [
       "True"
      ]
     },
     "execution_count": 70,
     "metadata": {},
     "output_type": "execute_result"
    }
   ],
   "source": [
    "id(a) == id(b)"
   ]
  },
  {
   "cell_type": "code",
   "execution_count": 71,
   "id": "bb1f2767",
   "metadata": {},
   "outputs": [],
   "source": [
    "a = 365\n",
    "b = 365"
   ]
  },
  {
   "cell_type": "code",
   "execution_count": 72,
   "id": "b26cd4a6",
   "metadata": {},
   "outputs": [
    {
     "data": {
      "text/plain": [
       "(140673740682800, 140673740682736)"
      ]
     },
     "execution_count": 72,
     "metadata": {},
     "output_type": "execute_result"
    }
   ],
   "source": [
    "id(a), id(b)"
   ]
  },
  {
   "cell_type": "code",
   "execution_count": 73,
   "id": "3319597f",
   "metadata": {},
   "outputs": [],
   "source": [
    "a = 2\n",
    "b = 2"
   ]
  },
  {
   "cell_type": "code",
   "execution_count": 74,
   "id": "b6dba5cd",
   "metadata": {},
   "outputs": [
    {
     "data": {
      "text/plain": [
       "(4308650368, 4308650368)"
      ]
     },
     "execution_count": 74,
     "metadata": {},
     "output_type": "execute_result"
    }
   ],
   "source": [
    "id(a), id(b)"
   ]
  },
  {
   "cell_type": "markdown",
   "id": "ccfb7696",
   "metadata": {},
   "source": [
    "## Operadores de comparación"
   ]
  },
  {
   "cell_type": "code",
   "execution_count": 93,
   "id": "821867e1",
   "metadata": {},
   "outputs": [],
   "source": [
    "a = 5\n",
    "b = 10"
   ]
  },
  {
   "cell_type": "code",
   "execution_count": 87,
   "id": "a220ccff",
   "metadata": {},
   "outputs": [
    {
     "data": {
      "text/plain": [
       "True"
      ]
     },
     "execution_count": 87,
     "metadata": {},
     "output_type": "execute_result"
    }
   ],
   "source": [
    "a == b"
   ]
  },
  {
   "cell_type": "code",
   "execution_count": 88,
   "id": "678793cf",
   "metadata": {},
   "outputs": [
    {
     "data": {
      "text/plain": [
       "False"
      ]
     },
     "execution_count": 88,
     "metadata": {},
     "output_type": "execute_result"
    }
   ],
   "source": [
    "a > b"
   ]
  },
  {
   "cell_type": "code",
   "execution_count": 89,
   "id": "744cfe5c",
   "metadata": {},
   "outputs": [
    {
     "data": {
      "text/plain": [
       "False"
      ]
     },
     "execution_count": 89,
     "metadata": {},
     "output_type": "execute_result"
    }
   ],
   "source": [
    "a < b"
   ]
  },
  {
   "cell_type": "code",
   "execution_count": 90,
   "id": "4b083dd0",
   "metadata": {},
   "outputs": [
    {
     "data": {
      "text/plain": [
       "True"
      ]
     },
     "execution_count": 90,
     "metadata": {},
     "output_type": "execute_result"
    }
   ],
   "source": [
    "a >= b"
   ]
  },
  {
   "cell_type": "code",
   "execution_count": 91,
   "id": "a1085441",
   "metadata": {},
   "outputs": [
    {
     "data": {
      "text/plain": [
       "True"
      ]
     },
     "execution_count": 91,
     "metadata": {},
     "output_type": "execute_result"
    }
   ],
   "source": [
    "a <= b"
   ]
  },
  {
   "cell_type": "code",
   "execution_count": 94,
   "id": "d78c656b",
   "metadata": {},
   "outputs": [
    {
     "data": {
      "text/plain": [
       "True"
      ]
     },
     "execution_count": 94,
     "metadata": {},
     "output_type": "execute_result"
    }
   ],
   "source": [
    "a != b"
   ]
  },
  {
   "cell_type": "code",
   "execution_count": 95,
   "id": "49e2d888",
   "metadata": {},
   "outputs": [],
   "source": [
    "a = 356\n",
    "b = 356"
   ]
  },
  {
   "cell_type": "code",
   "execution_count": 96,
   "id": "24f06ef0",
   "metadata": {},
   "outputs": [
    {
     "data": {
      "text/plain": [
       "True"
      ]
     },
     "execution_count": 96,
     "metadata": {},
     "output_type": "execute_result"
    }
   ],
   "source": [
    "a == b"
   ]
  },
  {
   "cell_type": "code",
   "execution_count": 97,
   "id": "f9b9d2d3",
   "metadata": {},
   "outputs": [
    {
     "data": {
      "text/plain": [
       "False"
      ]
     },
     "execution_count": 97,
     "metadata": {},
     "output_type": "execute_result"
    }
   ],
   "source": [
    "a is b"
   ]
  },
  {
   "cell_type": "code",
   "execution_count": 98,
   "id": "4ede674f",
   "metadata": {},
   "outputs": [
    {
     "data": {
      "text/plain": [
       "False"
      ]
     },
     "execution_count": 98,
     "metadata": {},
     "output_type": "execute_result"
    }
   ],
   "source": [
    "id(a) == id(b)"
   ]
  },
  {
   "cell_type": "code",
   "execution_count": 99,
   "id": "49985b46",
   "metadata": {},
   "outputs": [],
   "source": [
    "my_var = None\n",
    "my_new_var = None"
   ]
  },
  {
   "cell_type": "code",
   "execution_count": 100,
   "id": "d9c5d0e2",
   "metadata": {},
   "outputs": [
    {
     "data": {
      "text/plain": [
       "True"
      ]
     },
     "execution_count": 100,
     "metadata": {},
     "output_type": "execute_result"
    }
   ],
   "source": [
    "my_var == my_new_var"
   ]
  },
  {
   "cell_type": "code",
   "execution_count": 101,
   "id": "bc13e407",
   "metadata": {},
   "outputs": [
    {
     "data": {
      "text/plain": [
       "True"
      ]
     },
     "execution_count": 101,
     "metadata": {},
     "output_type": "execute_result"
    }
   ],
   "source": [
    "my_var is my_new_var"
   ]
  },
  {
   "cell_type": "code",
   "execution_count": null,
   "id": "e793955d",
   "metadata": {},
   "outputs": [],
   "source": []
  }
 ],
 "metadata": {
  "kernelspec": {
   "display_name": "Python 3",
   "language": "python",
   "name": "python3"
  },
  "language_info": {
   "codemirror_mode": {
    "name": "ipython",
    "version": 3
   },
   "file_extension": ".py",
   "mimetype": "text/x-python",
   "name": "python",
   "nbconvert_exporter": "python",
   "pygments_lexer": "ipython3",
   "version": "3.8.8"
  }
 },
 "nbformat": 4,
 "nbformat_minor": 5
}
