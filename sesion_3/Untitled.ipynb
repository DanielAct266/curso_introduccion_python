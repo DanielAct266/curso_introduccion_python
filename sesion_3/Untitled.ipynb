{
 "cells": [
  {
   "cell_type": "markdown",
   "id": "31fbc281",
   "metadata": {},
   "source": [
    "# Sesión 3"
   ]
  },
  {
   "cell_type": "markdown",
   "id": "9dc4ba61",
   "metadata": {},
   "source": [
    "#### Algunos comentarios: \n",
    "    - Python es un lenguaje interpretado.\n",
    "    - Python es un lenguaje multipropósito.\n",
    "    - Python es de tipado dinámico.\n",
    "    - Todo en Python es un Objeto.\n",
    "   \n",
    "#### Variables: \n",
    "    - Las variables son etiquetas que referencian a objetos almacenados en la memoria.\n",
    "    - Los nombres de las variables se almacenan en el Namespace junto con la dirección asociada.\n",
    "    - Existen algunos nombres reservados para la funcionalidad del lenguaje, como None.\n",
    "    \n",
    "#### Jerarquía de Tipos: \n",
    "    - Numbers: Integers, Booleans, Floats, Complex.\n",
    "    - Collections: Sequences (Lists, Strings, Tuples), Sets, Mappings (Dictionaries).\n",
    "    - Callables: Functions, Classes.\n",
    "    - Singletons: None"
   ]
  },
  {
   "cell_type": "markdown",
   "id": "5f97d0d5",
   "metadata": {},
   "source": [
    "### Numbers"
   ]
  },
  {
   "cell_type": "code",
   "execution_count": 2,
   "id": "e9f34666",
   "metadata": {},
   "outputs": [
    {
     "data": {
      "text/plain": [
       "2.5"
      ]
     },
     "execution_count": 2,
     "metadata": {},
     "output_type": "execute_result"
    }
   ],
   "source": [
    "1 + 1.5"
   ]
  },
  {
   "cell_type": "code",
   "execution_count": 3,
   "id": "3619dbf1",
   "metadata": {},
   "outputs": [
    {
     "data": {
      "text/plain": [
       "18.2"
      ]
     },
     "execution_count": 3,
     "metadata": {},
     "output_type": "execute_result"
    }
   ],
   "source": [
    "2.8 * 6.5"
   ]
  },
  {
   "cell_type": "code",
   "execution_count": 4,
   "id": "a8c2299c",
   "metadata": {},
   "outputs": [
    {
     "data": {
      "text/plain": [
       "9.821428571428571"
      ]
     },
     "execution_count": 4,
     "metadata": {},
     "output_type": "execute_result"
    }
   ],
   "source": [
    "55/5.6"
   ]
  },
  {
   "cell_type": "code",
   "execution_count": 5,
   "id": "f42a201a",
   "metadata": {},
   "outputs": [
    {
     "data": {
      "text/plain": [
       "78125"
      ]
     },
     "execution_count": 5,
     "metadata": {},
     "output_type": "execute_result"
    }
   ],
   "source": [
    "5**7"
   ]
  },
  {
   "cell_type": "code",
   "execution_count": 6,
   "id": "3b58e686",
   "metadata": {},
   "outputs": [
    {
     "data": {
      "text/plain": [
       "(True, False)"
      ]
     },
     "execution_count": 6,
     "metadata": {},
     "output_type": "execute_result"
    }
   ],
   "source": [
    "True, False"
   ]
  },
  {
   "cell_type": "code",
   "execution_count": 11,
   "id": "d2a40fd0",
   "metadata": {},
   "outputs": [
    {
     "data": {
      "text/plain": [
       "(-29+11j)"
      ]
     },
     "execution_count": 11,
     "metadata": {},
     "output_type": "execute_result"
    }
   ],
   "source": [
    "### Complejos\n",
    "(1 + 5j) * (1 + 6j)"
   ]
  },
  {
   "cell_type": "code",
   "execution_count": null,
   "id": "c4073125",
   "metadata": {},
   "outputs": [],
   "source": []
  }
 ],
 "metadata": {
  "kernelspec": {
   "display_name": "Python 3",
   "language": "python",
   "name": "python3"
  },
  "language_info": {
   "codemirror_mode": {
    "name": "ipython",
    "version": 3
   },
   "file_extension": ".py",
   "mimetype": "text/x-python",
   "name": "python",
   "nbconvert_exporter": "python",
   "pygments_lexer": "ipython3",
   "version": "3.8.8"
  }
 },
 "nbformat": 4,
 "nbformat_minor": 5
}
