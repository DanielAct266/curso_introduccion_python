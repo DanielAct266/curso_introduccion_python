{
 "cells": [
  {
   "cell_type": "markdown",
   "id": "a47457c8",
   "metadata": {},
   "source": [
    "# Sesión 3"
   ]
  },
  {
   "cell_type": "markdown",
   "id": "b965d928",
   "metadata": {},
   "source": [
    "#### Algunos comentarios: \n",
    "    - Python es un lenguaje de alto nivel.\n",
    "    - Python es un lenguaje interpretado.\n",
    "    - Python es un lenguaje multipropósito.\n",
    "    - Python es de tipado dinámico.\n",
    "    - Todo en Python es un Objeto.\n",
    "   \n",
    "#### Variables: \n",
    "    - Las variables son etiquetas que referencian a objetos almacenados en la memoria.\n",
    "    - Los nombres de las variables se almacenan en el Namespace junto con la dirección asociada.\n",
    "    - Existen algunos nombres reservados para la funcionalidad del lenguaje, como None.\n",
    "    \n",
    "#### Jerarquía de Tipos: \n",
    "    - Numbers: Integers, Booleans, Floats, Complex.\n",
    "    - Collections: Sequences (Lists, Strings, Tuples), Sets, Mappings (Dictionaries).\n",
    "    - Callables: Functions, Classes.\n",
    "    - Singletons: None"
   ]
  },
  {
   "cell_type": "code",
   "execution_count": 1,
   "id": "442991bf",
   "metadata": {},
   "outputs": [],
   "source": [
    "my_var = [1, 2, 3]"
   ]
  },
  {
   "cell_type": "code",
   "execution_count": 2,
   "id": "a3be58eb",
   "metadata": {},
   "outputs": [
    {
     "data": {
      "text/plain": [
       "140363021878848"
      ]
     },
     "execution_count": 2,
     "metadata": {},
     "output_type": "execute_result"
    }
   ],
   "source": [
    "id(my_var)"
   ]
  },
  {
   "cell_type": "markdown",
   "id": "91f15d7b",
   "metadata": {},
   "source": [
    "### Numbers"
   ]
  },
  {
   "cell_type": "code",
   "execution_count": 77,
   "id": "ef8e9d2d",
   "metadata": {},
   "outputs": [],
   "source": [
    "my_number = 1"
   ]
  },
  {
   "cell_type": "code",
   "execution_count": 3,
   "id": "019c33b4",
   "metadata": {},
   "outputs": [
    {
     "data": {
      "text/plain": [
       "2.5"
      ]
     },
     "execution_count": 3,
     "metadata": {},
     "output_type": "execute_result"
    }
   ],
   "source": [
    "1 + 1.5"
   ]
  },
  {
   "cell_type": "code",
   "execution_count": 4,
   "id": "92e62fa7",
   "metadata": {},
   "outputs": [
    {
     "data": {
      "text/plain": [
       "18.2"
      ]
     },
     "execution_count": 4,
     "metadata": {},
     "output_type": "execute_result"
    }
   ],
   "source": [
    "2.8 * 6.5"
   ]
  },
  {
   "cell_type": "code",
   "execution_count": 5,
   "id": "5e75df46",
   "metadata": {},
   "outputs": [
    {
     "data": {
      "text/plain": [
       "9.821428571428571"
      ]
     },
     "execution_count": 5,
     "metadata": {},
     "output_type": "execute_result"
    }
   ],
   "source": [
    "55/5.6"
   ]
  },
  {
   "cell_type": "code",
   "execution_count": 7,
   "id": "2e03bfdd",
   "metadata": {},
   "outputs": [
    {
     "data": {
      "text/plain": [
       "55.90169943749474"
      ]
     },
     "execution_count": 7,
     "metadata": {},
     "output_type": "execute_result"
    }
   ],
   "source": [
    "5**2.5"
   ]
  },
  {
   "cell_type": "code",
   "execution_count": 6,
   "id": "625212ff",
   "metadata": {},
   "outputs": [
    {
     "data": {
      "text/plain": [
       "(True, False)"
      ]
     },
     "execution_count": 6,
     "metadata": {},
     "output_type": "execute_result"
    }
   ],
   "source": [
    "True, False"
   ]
  },
  {
   "cell_type": "code",
   "execution_count": 10,
   "id": "df7b2cc4",
   "metadata": {},
   "outputs": [
    {
     "data": {
      "text/plain": [
       "(2+11j)"
      ]
     },
     "execution_count": 10,
     "metadata": {},
     "output_type": "execute_result"
    }
   ],
   "source": [
    "### Complejos\n",
    "(1 + 5j) + (1 + 6j)"
   ]
  },
  {
   "cell_type": "markdown",
   "id": "7f106d0d",
   "metadata": {},
   "source": [
    "Ejercicio 1. Escriba un programa que le pida al usuario dos números, y arroje la suma de ellos"
   ]
  },
  {
   "cell_type": "code",
   "execution_count": 49,
   "id": "ee7d62cf",
   "metadata": {},
   "outputs": [
    {
     "name": "stdout",
     "output_type": "stream",
     "text": [
      "\n",
      "Ingrese un número 23\n",
      "Ingrese otro número 45\n",
      "\n",
      "El resultado de la suma es: \n",
      "\n",
      "68\n"
     ]
    }
   ],
   "source": [
    "## La función input almacena el objeto como un String.\n",
    "## Necesitamos convertirlos a números enteros: Casting\n",
    "\n",
    "my_number_1 = int(input(\"\\nIngrese un número \"))\n",
    "my_number_2 = int(input(\"Ingrese otro número \"))\n",
    "\n",
    "## \\n significa salto de línea\n",
    "print(\"\\nEl resultado de la suma es: \\n\")\n",
    "print(my_number_1 + my_number_2)"
   ]
  },
  {
   "cell_type": "markdown",
   "id": "95e54b36",
   "metadata": {},
   "source": [
    "#### Ejercicio 2.\n",
    "Escriba un programa que le pida al usuario dos números y arroje el producto.\n",
    "(Tarea)"
   ]
  },
  {
   "cell_type": "code",
   "execution_count": null,
   "id": "4645b15b",
   "metadata": {},
   "outputs": [],
   "source": []
  },
  {
   "cell_type": "markdown",
   "id": "14f38d65",
   "metadata": {},
   "source": [
    "## Collections"
   ]
  },
  {
   "cell_type": "markdown",
   "id": "0eafefce",
   "metadata": {},
   "source": [
    "### Lists"
   ]
  },
  {
   "cell_type": "code",
   "execution_count": 17,
   "id": "cdd4f3ac",
   "metadata": {},
   "outputs": [],
   "source": [
    "my_list = [1, 2, 3, 4, 5]"
   ]
  },
  {
   "cell_type": "code",
   "execution_count": 18,
   "id": "15da7374",
   "metadata": {},
   "outputs": [
    {
     "data": {
      "text/plain": [
       "140363021528960"
      ]
     },
     "execution_count": 18,
     "metadata": {},
     "output_type": "execute_result"
    }
   ],
   "source": [
    "id(my_list)"
   ]
  },
  {
   "cell_type": "code",
   "execution_count": 19,
   "id": "a12a9142",
   "metadata": {},
   "outputs": [],
   "source": [
    "## Agregar elementos al final de la lista.\n",
    "my_list.append(6)"
   ]
  },
  {
   "cell_type": "code",
   "execution_count": 20,
   "id": "88077741",
   "metadata": {},
   "outputs": [
    {
     "name": "stdout",
     "output_type": "stream",
     "text": [
      "[1, 2, 3, 4, 5, 6]\n"
     ]
    }
   ],
   "source": [
    "print(my_list)"
   ]
  },
  {
   "cell_type": "code",
   "execution_count": 21,
   "id": "5591becc",
   "metadata": {},
   "outputs": [
    {
     "data": {
      "text/plain": [
       "140363021528960"
      ]
     },
     "execution_count": 21,
     "metadata": {},
     "output_type": "execute_result"
    }
   ],
   "source": [
    "id(my_list)"
   ]
  },
  {
   "cell_type": "code",
   "execution_count": 22,
   "id": "54e85c52",
   "metadata": {},
   "outputs": [],
   "source": [
    "my_list.reverse()"
   ]
  },
  {
   "cell_type": "code",
   "execution_count": 24,
   "id": "08fc73bf",
   "metadata": {},
   "outputs": [
    {
     "name": "stdout",
     "output_type": "stream",
     "text": [
      "[6, 5, 4, 3, 2, 1]\n"
     ]
    }
   ],
   "source": [
    "print(my_list)"
   ]
  },
  {
   "cell_type": "code",
   "execution_count": 26,
   "id": "7d73fddd",
   "metadata": {},
   "outputs": [
    {
     "data": {
      "text/plain": [
       "2"
      ]
     },
     "execution_count": 26,
     "metadata": {},
     "output_type": "execute_result"
    }
   ],
   "source": [
    "my_list[4]"
   ]
  },
  {
   "cell_type": "code",
   "execution_count": 27,
   "id": "fcffb362",
   "metadata": {},
   "outputs": [],
   "source": [
    "my_list.insert(1, 7)"
   ]
  },
  {
   "cell_type": "code",
   "execution_count": 28,
   "id": "b07e7e06",
   "metadata": {},
   "outputs": [
    {
     "name": "stdout",
     "output_type": "stream",
     "text": [
      "[6, 7, 5, 4, 3, 2, 1]\n"
     ]
    }
   ],
   "source": [
    "print(my_list)"
   ]
  },
  {
   "cell_type": "code",
   "execution_count": 29,
   "id": "422f5eae",
   "metadata": {},
   "outputs": [],
   "source": [
    "my_list_two = ['a', 'b', 'c', 'd']"
   ]
  },
  {
   "cell_type": "code",
   "execution_count": 30,
   "id": "bd10c846",
   "metadata": {},
   "outputs": [],
   "source": [
    "my_list_two.extend(my_list)"
   ]
  },
  {
   "cell_type": "code",
   "execution_count": 31,
   "id": "a3645bdc",
   "metadata": {},
   "outputs": [
    {
     "data": {
      "text/plain": [
       "['a', 'b', 'c', 'd', 6, 7, 5, 4, 3, 2, 1]"
      ]
     },
     "execution_count": 31,
     "metadata": {},
     "output_type": "execute_result"
    }
   ],
   "source": [
    "my_list_two"
   ]
  },
  {
   "cell_type": "code",
   "execution_count": 32,
   "id": "6a2b1657",
   "metadata": {},
   "outputs": [
    {
     "data": {
      "text/plain": [
       "[6, 7, 5, 4, 3, 2, 1, 'a', 'b', 'c', 'd', 6, 7, 5, 4, 3, 2, 1]"
      ]
     },
     "execution_count": 32,
     "metadata": {},
     "output_type": "execute_result"
    }
   ],
   "source": [
    "my_list + my_list_two"
   ]
  },
  {
   "cell_type": "markdown",
   "id": "deef0c19",
   "metadata": {},
   "source": [
    "### Tuples"
   ]
  },
  {
   "cell_type": "code",
   "execution_count": 33,
   "id": "9a5e5d5f",
   "metadata": {},
   "outputs": [],
   "source": [
    "my_tuple = (1, 2, 3, 4)\n",
    "\n",
    "my_other_tuple = (5, 6, 98, 3)"
   ]
  },
  {
   "cell_type": "code",
   "execution_count": 35,
   "id": "1486b935",
   "metadata": {},
   "outputs": [],
   "source": [
    "result = my_tuple + my_other_tuple"
   ]
  },
  {
   "cell_type": "code",
   "execution_count": 38,
   "id": "3ba48810",
   "metadata": {},
   "outputs": [
    {
     "data": {
      "text/plain": [
       "(5, 6, 98, 3)"
      ]
     },
     "execution_count": 38,
     "metadata": {},
     "output_type": "execute_result"
    }
   ],
   "source": [
    "my_tuple + (2, 3, 4, 5)"
   ]
  },
  {
   "cell_type": "code",
   "execution_count": 39,
   "id": "8d2d94c7",
   "metadata": {},
   "outputs": [
    {
     "data": {
      "text/plain": [
       "3"
      ]
     },
     "execution_count": 39,
     "metadata": {},
     "output_type": "execute_result"
    }
   ],
   "source": [
    "my_tuple[2]"
   ]
  },
  {
   "cell_type": "code",
   "execution_count": 43,
   "id": "0261f21b",
   "metadata": {},
   "outputs": [
    {
     "data": {
      "text/plain": [
       "2"
      ]
     },
     "execution_count": 43,
     "metadata": {},
     "output_type": "execute_result"
    }
   ],
   "source": [
    "my_tuple[1]"
   ]
  },
  {
   "cell_type": "markdown",
   "id": "9f48df53",
   "metadata": {},
   "source": [
    "### Strings"
   ]
  },
  {
   "cell_type": "code",
   "execution_count": 45,
   "id": "4e823355",
   "metadata": {},
   "outputs": [],
   "source": [
    "my_string = \"Hola, ¿cómo estás?\""
   ]
  },
  {
   "cell_type": "code",
   "execution_count": 47,
   "id": "ed638329",
   "metadata": {},
   "outputs": [
    {
     "data": {
      "text/plain": [
       "'á'"
      ]
     },
     "execution_count": 47,
     "metadata": {},
     "output_type": "execute_result"
    }
   ],
   "source": [
    "my_string[15]"
   ]
  },
  {
   "cell_type": "markdown",
   "id": "550734b0",
   "metadata": {},
   "source": [
    "#### Ejercicio 3.\n",
    "Escribe un programa que le pida el nombre al usuario y lo salude de manera personalizada."
   ]
  },
  {
   "cell_type": "code",
   "execution_count": 48,
   "id": "e922a2ef",
   "metadata": {},
   "outputs": [
    {
     "name": "stdout",
     "output_type": "stream",
     "text": [
      "Por favor escribe tu nombre... Daniel\n",
      "Hola ¿cómo estás Daniel?\n"
     ]
    }
   ],
   "source": [
    "name = input(\"Por favor escribe tu nombre... \")\n",
    "saludo = \"Hola ¿cómo estás \" + name + \"?\"\n",
    "print(saludo)"
   ]
  },
  {
   "cell_type": "markdown",
   "id": "8c192ef3",
   "metadata": {},
   "source": [
    "### Sets"
   ]
  },
  {
   "cell_type": "code",
   "execution_count": 53,
   "id": "18e7e4d1",
   "metadata": {},
   "outputs": [],
   "source": [
    "my_set_one = {3, 6, 9}\n",
    "my_set_two = {2.9, 4.5, 54}\n",
    "my_set_three = {3, 9}"
   ]
  },
  {
   "cell_type": "code",
   "execution_count": 52,
   "id": "c269ac7e",
   "metadata": {},
   "outputs": [
    {
     "data": {
      "text/plain": [
       "{2.9, 3, 4.5, 6, 9, 54}"
      ]
     },
     "execution_count": 52,
     "metadata": {},
     "output_type": "execute_result"
    }
   ],
   "source": [
    "my_set_one.union(my_set_two)"
   ]
  },
  {
   "cell_type": "code",
   "execution_count": 54,
   "id": "778501a1",
   "metadata": {},
   "outputs": [
    {
     "data": {
      "text/plain": [
       "{3, 9}"
      ]
     },
     "execution_count": 54,
     "metadata": {},
     "output_type": "execute_result"
    }
   ],
   "source": [
    "my_set_one.intersection(my_set_three)"
   ]
  },
  {
   "cell_type": "code",
   "execution_count": 55,
   "id": "6f8309e1",
   "metadata": {},
   "outputs": [
    {
     "data": {
      "text/plain": [
       "{6}"
      ]
     },
     "execution_count": 55,
     "metadata": {},
     "output_type": "execute_result"
    }
   ],
   "source": [
    "my_set_one.difference(my_set_three)"
   ]
  },
  {
   "cell_type": "markdown",
   "id": "006f8557",
   "metadata": {},
   "source": [
    "### Dicts"
   ]
  },
  {
   "cell_type": "code",
   "execution_count": 56,
   "id": "263b2d90",
   "metadata": {},
   "outputs": [],
   "source": [
    "my_dict = {\"Name\": [\"Pedro\", \"Arturo\"], \"Apellido\": [\"López\", \"Ortiz\"]}"
   ]
  },
  {
   "cell_type": "code",
   "execution_count": 58,
   "id": "2f0f165a",
   "metadata": {},
   "outputs": [],
   "source": [
    "my_dict[\"Name\"].append(\"Miguel\")"
   ]
  },
  {
   "cell_type": "code",
   "execution_count": 63,
   "id": "2808e1bf",
   "metadata": {},
   "outputs": [],
   "source": [
    "my_dict[\"Apellido\"].append(\"Gómez\")"
   ]
  },
  {
   "cell_type": "code",
   "execution_count": 64,
   "id": "595d8658",
   "metadata": {},
   "outputs": [
    {
     "data": {
      "text/plain": [
       "{'Name': ['Pedro', 'Arturo', 'Miguel'],\n",
       " 'Apellido': ['López', 'Ortiz', 'Gómez']}"
      ]
     },
     "execution_count": 64,
     "metadata": {},
     "output_type": "execute_result"
    }
   ],
   "source": [
    "my_dict"
   ]
  },
  {
   "cell_type": "code",
   "execution_count": 65,
   "id": "58685de7",
   "metadata": {},
   "outputs": [
    {
     "data": {
      "text/plain": [
       "dict_keys(['Name', 'Apellido'])"
      ]
     },
     "execution_count": 65,
     "metadata": {},
     "output_type": "execute_result"
    }
   ],
   "source": [
    "my_dict.keys()"
   ]
  },
  {
   "cell_type": "code",
   "execution_count": 66,
   "id": "b05040da",
   "metadata": {},
   "outputs": [
    {
     "data": {
      "text/plain": [
       "dict_values([['Pedro', 'Arturo', 'Miguel'], ['López', 'Ortiz', 'Gómez']])"
      ]
     },
     "execution_count": 66,
     "metadata": {},
     "output_type": "execute_result"
    }
   ],
   "source": [
    "my_dict.values()"
   ]
  },
  {
   "cell_type": "code",
   "execution_count": 67,
   "id": "16c0f707",
   "metadata": {},
   "outputs": [],
   "source": [
    "my_dict.update(\n",
    "    {\"Ciudad\": [\"CDMX\", \"Torreón\", \"Monterrey\"]}\n",
    ")"
   ]
  },
  {
   "cell_type": "code",
   "execution_count": 68,
   "id": "5d2b5d00",
   "metadata": {},
   "outputs": [
    {
     "data": {
      "text/plain": [
       "{'Name': ['Pedro', 'Arturo', 'Miguel'],\n",
       " 'Apellido': ['López', 'Ortiz', 'Gómez'],\n",
       " 'Ciudad': ['CDMX', 'Torreón', 'Monterrey']}"
      ]
     },
     "execution_count": 68,
     "metadata": {},
     "output_type": "execute_result"
    }
   ],
   "source": [
    "my_dict"
   ]
  },
  {
   "cell_type": "markdown",
   "id": "17430193",
   "metadata": {},
   "source": [
    "## Condicionales\n",
    "Es una sentencia de control de flujo cuyo resultado dependerá del valor de verdad de otra sentencia."
   ]
  },
  {
   "cell_type": "markdown",
   "id": "31de0a12",
   "metadata": {},
   "source": [
    "Ejercicio 4. Escriba un programa que dependiendo del nombre del usuario le diga si es hombre o mujer."
   ]
  },
  {
   "cell_type": "code",
   "execution_count": 73,
   "id": "4a279aaf",
   "metadata": {},
   "outputs": [
    {
     "name": "stdout",
     "output_type": "stream",
     "text": [
      "Escriba su nombre Pedro\n",
      "Es probable que usted sea hombre\n"
     ]
    }
   ],
   "source": [
    "name = input(\"Escriba su nombre \")\n",
    "\n",
    "if name in ['Daniel', 'Pedro', 'Arturo', 'Julián', 'Enrique']:\n",
    "    print(\"Es probable que usted sea hombre\")\n",
    "else:\n",
    "    print(\"Es probable que usted sea mujer\")"
   ]
  },
  {
   "cell_type": "markdown",
   "id": "695cfbc1",
   "metadata": {},
   "source": [
    "Ejercicio 5. Escriba un programa que dependiendo de un número flotante diga si este es positivo o negativo."
   ]
  },
  {
   "cell_type": "code",
   "execution_count": 88,
   "id": "350b048f",
   "metadata": {},
   "outputs": [
    {
     "name": "stdout",
     "output_type": "stream",
     "text": [
      "Dame un número -3\n",
      "El número es negativo\n"
     ]
    }
   ],
   "source": [
    "## Casting: Cambiar el tipo de dato de un objeto\n",
    "number = int(input(\"Dame un número \"))\n",
    "\n",
    "if number < 0:\n",
    "    print(\"El número es negativo\")\n",
    "else: \n",
    "    print(\"El número es no negativo\")"
   ]
  },
  {
   "cell_type": "markdown",
   "id": "96b05f6a",
   "metadata": {},
   "source": [
    "Ejercicio 6. Escriba un programa que dado un número real, indique si es negativo, cero o positivo"
   ]
  },
  {
   "cell_type": "code",
   "execution_count": 91,
   "id": "a8a821f9",
   "metadata": {},
   "outputs": [
    {
     "name": "stdout",
     "output_type": "stream",
     "text": [
      "Escribe un número: -5\n",
      "El número es negativo\n"
     ]
    }
   ],
   "source": [
    "number = int(input(\"Escribe un número: \"))\n",
    "\n",
    "if number < 0:\n",
    "    print(\"El número es negativo\")\n",
    "elif number == 0:\n",
    "    print(\"El número es igual a cero\")\n",
    "else:\n",
    "    print(\"El número es positivo\")"
   ]
  },
  {
   "cell_type": "markdown",
   "id": "62bae4d3",
   "metadata": {},
   "source": [
    "Ejercicio 7. Escriba un programa que dado un número entero diga si este es par o impar"
   ]
  },
  {
   "cell_type": "markdown",
   "id": "e0d9bdb3",
   "metadata": {},
   "source": [
    "Solución: Dado que un número es par cuando al ser dividido por dos el resultado cero y en caso contrario el resultado es uno. Haremos lo siguiente: \\\n",
    "\n",
    "1. Pedir el número \n",
    "2. Calcular el residuo al ser dividido por dos \n",
    "3. Ver si el residuo es cero o es uno \n",
    "4. Si es uno: Es impar \n",
    "5. Si es cero: Es par \n",
    "\n",
    "Operador módulo: %, el residuo al dividir un número por otro"
   ]
  },
  {
   "cell_type": "code",
   "execution_count": 94,
   "id": "1c5ce29a",
   "metadata": {},
   "outputs": [
    {
     "data": {
      "text/plain": [
       "1"
      ]
     },
     "execution_count": 94,
     "metadata": {},
     "output_type": "execute_result"
    }
   ],
   "source": [
    "7 % 2"
   ]
  },
  {
   "cell_type": "code",
   "execution_count": 98,
   "id": "7c72f503",
   "metadata": {},
   "outputs": [
    {
     "name": "stdout",
     "output_type": "stream",
     "text": [
      "Escribe un número4574565867986799\n",
      "El número es impar\n"
     ]
    }
   ],
   "source": [
    "number = int(input(\"Escribe un número\"))\n",
    "residuo = number % 2\n",
    "\n",
    "if residuo == 0:\n",
    "    print(\"El número es par\")\n",
    "else:\n",
    "    print(\"El número es impar\")"
   ]
  },
  {
   "cell_type": "code",
   "execution_count": null,
   "id": "02f8a38e",
   "metadata": {},
   "outputs": [],
   "source": []
  },
  {
   "cell_type": "code",
   "execution_count": null,
   "id": "4148a257",
   "metadata": {},
   "outputs": [],
   "source": []
  }
 ],
 "metadata": {
  "kernelspec": {
   "display_name": "Python 3",
   "language": "python",
   "name": "python3"
  },
  "language_info": {
   "codemirror_mode": {
    "name": "ipython",
    "version": 3
   },
   "file_extension": ".py",
   "mimetype": "text/x-python",
   "name": "python",
   "nbconvert_exporter": "python",
   "pygments_lexer": "ipython3"
  },
  "vscode": {
   "interpreter": {
    "hash": "31f2aee4e71d21fbe5cf8b01ff0e069b9275f58929596ceb00d14d90e3e16cd6"
   }
  }
 },
 "nbformat": 4,
 "nbformat_minor": 5
}
