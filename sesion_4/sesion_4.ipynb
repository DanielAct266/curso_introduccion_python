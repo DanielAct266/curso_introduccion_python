{
 "cells": [
  {
   "cell_type": "markdown",
   "id": "a47457c8",
   "metadata": {},
   "source": [
    "# Sesión 4"
   ]
  },
  {
   "cell_type": "code",
   "execution_count": 13,
   "metadata": {},
   "outputs": [
    {
     "name": "stdout",
     "output_type": "stream",
     "text": [
      "Por f5\n",
      "El número es 5\n"
     ]
    }
   ],
   "source": [
    "number = int(input(\"Por f\"))\n",
    "\n",
    "if number == 5:\n",
    "    print(\"El número es 5\")"
   ]
  },
  {
   "cell_type": "markdown",
   "metadata": {},
   "source": [
    "## Ciclos\n",
    "\n",
    "Un ciclo es una herramienta del lenguaje (Python) que nos permite realizar una operación sobre un conjunto de valores, ese conjunto de valores puede ser fijo o puede ser móvil"
   ]
  },
  {
   "cell_type": "code",
   "execution_count": 21,
   "metadata": {},
   "outputs": [
    {
     "name": "stdout",
     "output_type": "stream",
     "text": [
      "Por favor ingresa un número 71\n"
     ]
    }
   ],
   "source": [
    "### Ya sabemos encontrar divisores de un número entero positivo\n",
    "### Ya solo nos falta un paso para poder decir si un número es primo o no\n",
    "number = int(input(\"Por favor ingresa un número \"))\n",
    "\n",
    "for value in range(2, number):\n",
    "    if number % value == 0:\n",
    "        print(f\"El número es divisible por {value}\") ## Formateo de Strings\n",
    "    else:\n",
    "        pass"
   ]
  },
  {
   "cell_type": "code",
   "execution_count": 22,
   "metadata": {},
   "outputs": [
    {
     "name": "stdout",
     "output_type": "stream",
     "text": [
      "Por favor ingresa un número 50\n",
      "El número: 2 es par\n",
      "El número: 4 es par\n",
      "El número: 6 es par\n",
      "El número: 8 es par\n",
      "El número: 10 es par\n",
      "El número: 12 es par\n",
      "El número: 14 es par\n",
      "El número: 16 es par\n",
      "El número: 18 es par\n",
      "El número: 20 es par\n",
      "El número: 22 es par\n",
      "El número: 24 es par\n",
      "El número: 26 es par\n",
      "El número: 28 es par\n",
      "El número: 30 es par\n",
      "El número: 32 es par\n",
      "El número: 34 es par\n",
      "El número: 36 es par\n",
      "El número: 38 es par\n",
      "El número: 40 es par\n",
      "El número: 42 es par\n",
      "El número: 44 es par\n",
      "El número: 46 es par\n",
      "El número: 48 es par\n"
     ]
    }
   ],
   "source": [
    "### Encontrar todos los números pares en un rango dado por el usuario\n",
    "number = int(input(\"Por favor ingresa un número \"))\n",
    "\n",
    "for value in range(1, number):\n",
    "    if value % 2 == 0:\n",
    "        print(f\"El número: {value} es par\")"
   ]
  },
  {
   "cell_type": "code",
   "execution_count": null,
   "metadata": {},
   "outputs": [],
   "source": [
    "### Tarea: Encontrar todos los números divisibles por 3 en un rango dado por el usuario.\n",
    "number = int(input(\"Por favor ingresa un número \"))\n",
    "\n",
    "for value in range(1, number):\n",
    "    if 'algo':\n",
    "        print('algo')"
   ]
  },
  {
   "cell_type": "code",
   "execution_count": 23,
   "metadata": {},
   "outputs": [
    {
     "name": "stdout",
     "output_type": "stream",
     "text": [
      "2\n",
      "4\n",
      "5\n",
      "6\n"
     ]
    }
   ],
   "source": [
    "### En Python podemos hacer ciclos for sobre Iterables\n",
    "for i in [2, 4, 5, 6]:\n",
    "    print(i)"
   ]
  },
  {
   "cell_type": "code",
   "execution_count": 28,
   "metadata": {},
   "outputs": [
    {
     "name": "stdout",
     "output_type": "stream",
     "text": [
      "2\n",
      "4\n",
      "5\n",
      "6\n"
     ]
    }
   ],
   "source": [
    "for number_odd in (2, 4, 5, 6):\n",
    "    print(number_odd)"
   ]
  },
  {
   "cell_type": "code",
   "execution_count": 25,
   "metadata": {},
   "outputs": [
    {
     "name": "stdout",
     "output_type": "stream",
     "text": [
      "H\n",
      "o\n",
      "l\n",
      "a\n"
     ]
    }
   ],
   "source": [
    "for char in \"Hola\":\n",
    "    print(char)"
   ]
  },
  {
   "cell_type": "code",
   "execution_count": 29,
   "metadata": {},
   "outputs": [
    {
     "ename": "TypeError",
     "evalue": "'int' object is not iterable",
     "output_type": "error",
     "traceback": [
      "\u001b[0;31m---------------------------------------------------------------------------\u001b[0m",
      "\u001b[0;31mTypeError\u001b[0m                                 Traceback (most recent call last)",
      "\u001b[0;32m<ipython-input-29-66d1c8a32ee9>\u001b[0m in \u001b[0;36m<module>\u001b[0;34m\u001b[0m\n\u001b[0;32m----> 1\u001b[0;31m \u001b[0;32mfor\u001b[0m \u001b[0mi\u001b[0m \u001b[0;32min\u001b[0m \u001b[0;36m1\u001b[0m\u001b[0;34m:\u001b[0m\u001b[0;34m\u001b[0m\u001b[0;34m\u001b[0m\u001b[0m\n\u001b[0m\u001b[1;32m      2\u001b[0m     \u001b[0mprint\u001b[0m\u001b[0;34m(\u001b[0m\u001b[0mi\u001b[0m\u001b[0;34m)\u001b[0m\u001b[0;34m\u001b[0m\u001b[0;34m\u001b[0m\u001b[0m\n",
      "\u001b[0;31mTypeError\u001b[0m: 'int' object is not iterable"
     ]
    }
   ],
   "source": [
    "for i in 1:\n",
    "    print(i)"
   ]
  },
  {
   "cell_type": "markdown",
   "metadata": {},
   "source": [
    "## Números primos"
   ]
  },
  {
   "cell_type": "code",
   "execution_count": 56,
   "metadata": {},
   "outputs": [
    {
     "name": "stdout",
     "output_type": "stream",
     "text": [
      "Dame un número 10414567\n",
      "El número no es primo\n",
      "Tiene los siguientes divisores\n",
      "[1, 10414567, 29, 467, 769, 13543, 22301, 359123]\n"
     ]
    }
   ],
   "source": [
    "## Dado un número entero positivo, escriba un programa que indique si el número es primo o no\n",
    "\n",
    "number = int(input(\"Dame un número \"))\n",
    "\n",
    "### Contador: Se usan para llevar la cuenta de algo.\n",
    "count = 0\n",
    "divisores = [1, number]\n",
    "\n",
    "for value in range(2, number):\n",
    "    if number % value == 0:\n",
    "        count = count + 1\n",
    "        ## El método append nos permite agregar un elemento a una lista\n",
    "        divisores.append(value)\n",
    "    else:\n",
    "        pass\n",
    "\n",
    "if count == 0:\n",
    "    print(\"El número es primo\")\n",
    "else:\n",
    "    print(\"El número no es primo\")\n",
    "    print(\"Tiene los siguientes divisores\")\n",
    "    print(divisores)"
   ]
  },
  {
   "cell_type": "code",
   "execution_count": 55,
   "metadata": {},
   "outputs": [
    {
     "name": "stdout",
     "output_type": "stream",
     "text": [
      "Dame un número 10414567\n",
      "El número no es primo\n",
      "Tiene los siguientes divisores\n",
      "[1, 10414567, 29]\n"
     ]
    }
   ],
   "source": [
    "## Dado un número entero positivo, escriba un programa que indique si el número es primo o no y que termine\n",
    "## cuando encuentre el primer divisor que no sea 1 o el número en cuestión.\n",
    "\n",
    "number = int(input(\"Dame un número \"))\n",
    "\n",
    "### Contador: Se usan para llevar la cuenta de algo.\n",
    "count = 0\n",
    "divisores = [1, number]\n",
    "\n",
    "for value in range(2, number):\n",
    "    if number % value == 0:\n",
    "        count = count + 1\n",
    "        ## El método append nos permite agregar un elemento a una lista\n",
    "        divisores.append(value)\n",
    "        break\n",
    "    else:\n",
    "        pass\n",
    "\n",
    "if count == 0:\n",
    "    print(\"El número es primo\")\n",
    "else:\n",
    "    print(\"El número no es primo\")\n",
    "    print(\"Tiene los siguientes divisores\")\n",
    "    print(divisores)"
   ]
  },
  {
   "cell_type": "code",
   "execution_count": 54,
   "metadata": {},
   "outputs": [
    {
     "data": {
      "text/plain": [
       "10414567"
      ]
     },
     "execution_count": 54,
     "metadata": {},
     "output_type": "execute_result"
    }
   ],
   "source": [
    "29*359123"
   ]
  },
  {
   "cell_type": "code",
   "execution_count": 57,
   "metadata": {},
   "outputs": [
    {
     "name": "stdout",
     "output_type": "stream",
     "text": [
      "Dame un número10\n"
     ]
    }
   ],
   "source": [
    "### La sucesión de fibonacci\n",
    "### El objetivo es programar un algoritmo que obtenga el n-ésimo término de la \n",
    "### Sucesión de Fibonacci\n",
    "\n",
    "n = int(input(\"Dame un número\"))\n",
    "\n",
    "fib = [1, 1]\n",
    "\n",
    "for i in range(1, n):\n",
    "    ### Tarea entender este código, buscar una alternativa, y buscar el error.\n",
    "    f = fib[i] + fib[i-1]\n",
    "    fib.append(f)"
   ]
  },
  {
   "cell_type": "code",
   "execution_count": 60,
   "metadata": {},
   "outputs": [],
   "source": [
    "my_list = [2, 5, 7, 9]"
   ]
  },
  {
   "cell_type": "code",
   "execution_count": 62,
   "metadata": {},
   "outputs": [
    {
     "data": {
      "text/plain": [
       "7"
      ]
     },
     "execution_count": 62,
     "metadata": {},
     "output_type": "execute_result"
    }
   ],
   "source": [
    "my_list[0] + my_list[1]"
   ]
  },
  {
   "cell_type": "code",
   "execution_count": null,
   "metadata": {},
   "outputs": [],
   "source": []
  }
 ],
 "metadata": {
  "kernelspec": {
   "display_name": "Python 3",
   "language": "python",
   "name": "python3"
  },
  "language_info": {
   "codemirror_mode": {
    "name": "ipython",
    "version": 3
   },
   "file_extension": ".py",
   "mimetype": "text/x-python",
   "name": "python",
   "nbconvert_exporter": "python",
   "pygments_lexer": "ipython3",
   "version": "3.8.8"
  },
  "vscode": {
   "interpreter": {
    "hash": "31f2aee4e71d21fbe5cf8b01ff0e069b9275f58929596ceb00d14d90e3e16cd6"
   }
  }
 },
 "nbformat": 4,
 "nbformat_minor": 2
}
