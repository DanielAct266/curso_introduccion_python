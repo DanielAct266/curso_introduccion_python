{
 "cells": [
  {
   "attachments": {},
   "cell_type": "markdown",
   "id": "a47457c8",
   "metadata": {},
   "source": [
    "# Sesión 4"
   ]
  },
  {
   "attachments": {},
   "cell_type": "markdown",
   "id": "b965d928",
   "metadata": {},
   "source": [
    "#### Algunos comentarios: \n",
    "    - Python es un lenguaje de alto nivel.\n",
    "    - Python es un lenguaje interpretado.\n",
    "    - Python es un lenguaje multipropósito.\n",
    "    - Python es de tipado dinámico.\n",
    "    - Todo en Python es un Objeto.\n",
    "   \n",
    "#### Variables: \n",
    "    - Las variables son etiquetas que referencian a objetos almacenados en la memoria.\n",
    "    - Los nombres de las variables se almacenan en el Namespace junto con la dirección asociada.\n",
    "    - Existen algunos nombres reservados para la funcionalidad del lenguaje, como None.\n",
    "    \n",
    "#### Jerarquía de Tipos: \n",
    "    - Numbers: Integers, Booleans, Floats, Complex.\n",
    "    - Collections: Sequences (Lists, Strings, Tuples), Sets, Mappings (Dictionaries).\n",
    "    - Callables: Functions, Classes.\n",
    "    - Singletons: None\n",
    "\n",
    "### Pedir un dato de entrada al usuario\n",
    "    - La función input nos permite pedir un dato de entrada el usuario\n",
    "    - Hay que tener en cuenta que la función input almacena el objeto como un String\n",
    "    - Por lo que si queremos trabajar con números es recomendable hace un Casting a un Number\n",
    "\n",
    "### Condicionales\n",
    "    - Nos permiten ejecutar bloques de código dependiendo del valor de verdad de una sentencia\n",
    "    - Si tenemos más de una condición podemos utilizar \"elif\""
   ]
  },
  {
   "cell_type": "code",
   "execution_count": null,
   "metadata": {},
   "outputs": [],
   "source": []
  },
  {
   "cell_type": "code",
   "execution_count": null,
   "metadata": {},
   "outputs": [],
   "source": []
  },
  {
   "cell_type": "code",
   "execution_count": null,
   "metadata": {},
   "outputs": [],
   "source": []
  },
  {
   "cell_type": "code",
   "execution_count": null,
   "metadata": {},
   "outputs": [],
   "source": []
  }
 ],
 "metadata": {
  "kernelspec": {
   "display_name": "Python 3",
   "language": "python",
   "name": "python3"
  },
  "language_info": {
   "name": "python"
  },
  "orig_nbformat": 4,
  "vscode": {
   "interpreter": {
    "hash": "31f2aee4e71d21fbe5cf8b01ff0e069b9275f58929596ceb00d14d90e3e16cd6"
   }
  }
 },
 "nbformat": 4,
 "nbformat_minor": 2
}
