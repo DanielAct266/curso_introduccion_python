{
 "cells": [
  {
   "cell_type": "markdown",
   "id": "fc2c38ae",
   "metadata": {},
   "source": [
    "# Sesión 5"
   ]
  },
  {
   "cell_type": "code",
   "execution_count": 1,
   "id": "00add8e2",
   "metadata": {},
   "outputs": [],
   "source": [
    "a = 1"
   ]
  },
  {
   "cell_type": "code",
   "execution_count": 3,
   "id": "e6aa94d0",
   "metadata": {},
   "outputs": [
    {
     "name": "stdout",
     "output_type": "stream",
     "text": [
      "Ingresa un número por favor: 7\n",
      "El número es impar\n"
     ]
    }
   ],
   "source": [
    "### Input almacena el objeto como un string, necestiamos hacer\n",
    "### Un casting a un número entero\n",
    "n = int(input(\"Ingresa un número por favor: \"))\n",
    "\n",
    "if n % 2 == 0:\n",
    "    print(\"El número es par\")\n",
    "else: \n",
    "    print(\"El número es impar\")"
   ]
  },
  {
   "cell_type": "code",
   "execution_count": 5,
   "id": "e492007f",
   "metadata": {},
   "outputs": [
    {
     "name": "stdout",
     "output_type": "stream",
     "text": [
      "Ingresa un número por favor: 6\n",
      "El número es par\n"
     ]
    }
   ],
   "source": [
    "### Podemos tener más de una condición\n",
    "n = int(input(\"Ingresa un número por favor: \"))\n",
    "\n",
    "if n%2 == 0:\n",
    "    print(\"El número es par\")\n",
    "elif n % 3 == 0:\n",
    "    print(\"EL número es divisible por 3\")\n",
    "else:\n",
    "    print(\"El número no es divible ni por dos ni por tres\")"
   ]
  },
  {
   "cell_type": "code",
   "execution_count": null,
   "id": "82fb6e51",
   "metadata": {},
   "outputs": [],
   "source": [
    "n = int(input(\"Ingresa un número por favor: \"))\n",
    "\n",
    "if n % 2 == 0:\n",
    "    print(\"El número no es primo\")\n",
    "elif n % 3 == 0:\n",
    "    print(\"El número no es primo\")\n",
    "elif n % 5 == 0:\n",
    "    print(\"El número no es primo\")\n",
    "elif n % 7 == 0:\n",
    "    print(\"El número no es primo\")\n",
    "else:\n",
    "    print(\"El número es primo\")"
   ]
  },
  {
   "cell_type": "code",
   "execution_count": 7,
   "id": "f4b544e2",
   "metadata": {},
   "outputs": [
    {
     "data": {
      "text/plain": [
       "(1, 2, 3, 3, 0)"
      ]
     },
     "execution_count": 7,
     "metadata": {},
     "output_type": "execute_result"
    }
   ],
   "source": [
    "143 % 2, 143%3, 143%5, 143%7, 143%11"
   ]
  },
  {
   "cell_type": "markdown",
   "id": "8e2cbf00",
   "metadata": {},
   "source": [
    "# Ciclos / Bucles (Loops)"
   ]
  },
  {
   "cell_type": "code",
   "execution_count": 9,
   "id": "67045988",
   "metadata": {},
   "outputs": [
    {
     "name": "stdout",
     "output_type": "stream",
     "text": [
      "1\n",
      "2\n",
      "3\n",
      "4\n",
      "5\n",
      "6\n",
      "7\n",
      "8\n",
      "9\n"
     ]
    }
   ],
   "source": [
    "## Iterar sobre un conjunto.\n",
    "for i in range(1, 10):\n",
    "    print(i)"
   ]
  },
  {
   "cell_type": "code",
   "execution_count": 15,
   "id": "b10b9b41",
   "metadata": {},
   "outputs": [
    {
     "name": "stdout",
     "output_type": "stream",
     "text": [
      "Dame un número: 5\n",
      "Voy a imprimir todos los número pares en el rango especificado\n",
      "2\n",
      "4\n"
     ]
    }
   ],
   "source": [
    "n = int(input(\"Dame un número: \"))\n",
    "\n",
    "print(\"Voy a imprimir todos los número pares en el rango especificado\")\n",
    "\n",
    "for i in range(1, n + 1):\n",
    "    if i % 2 == 0:\n",
    "        print(i)"
   ]
  },
  {
   "cell_type": "code",
   "execution_count": 16,
   "id": "29d8ae7b",
   "metadata": {},
   "outputs": [
    {
     "name": "stdout",
     "output_type": "stream",
     "text": [
      "H\n",
      "o\n",
      "l\n",
      "a\n"
     ]
    }
   ],
   "source": [
    "### Todos los sequences son iterables:\n",
    "## Listas, Tuplas y Strings\n",
    "\n",
    "for letra in 'Hola':\n",
    "    print(letra)"
   ]
  },
  {
   "cell_type": "code",
   "execution_count": 17,
   "id": "b6ca458b",
   "metadata": {},
   "outputs": [
    {
     "name": "stdout",
     "output_type": "stream",
     "text": [
      "1\n",
      "4\n",
      "5\n",
      "3\n",
      "2\n",
      "7\n"
     ]
    }
   ],
   "source": [
    "for item in [1, 4, 5, 3, 2, 7]:\n",
    "    print(item)"
   ]
  },
  {
   "cell_type": "code",
   "execution_count": 21,
   "id": "f7a94ea9",
   "metadata": {},
   "outputs": [
    {
     "name": "stdout",
     "output_type": "stream",
     "text": [
      "6\n",
      "9\n",
      "6\n",
      "5\n",
      "4\n",
      "0\n",
      "hola\n"
     ]
    }
   ],
   "source": [
    "for item in (6, 9 , 6 , 5, 4, 0, 'hola'):\n",
    "    print(item)"
   ]
  },
  {
   "cell_type": "code",
   "execution_count": 25,
   "id": "9639ee72",
   "metadata": {},
   "outputs": [
    {
     "name": "stdout",
     "output_type": "stream",
     "text": [
      "Dame un número: 1\n"
     ]
    }
   ],
   "source": [
    "n = int(input(\"Dame un número: \"))\n",
    "\n",
    "#for i in range(1, n + 1):\n",
    "    #print(i)"
   ]
  },
  {
   "cell_type": "markdown",
   "id": "9be2e194",
   "metadata": {},
   "source": [
    "### Encontrar números primos"
   ]
  },
  {
   "cell_type": "code",
   "execution_count": 29,
   "id": "a1a62681",
   "metadata": {},
   "outputs": [
    {
     "name": "stdout",
     "output_type": "stream",
     "text": [
      "Dame un número: 13\n"
     ]
    }
   ],
   "source": [
    "n = int(input(\"Dame un número: \"))\n",
    "\n",
    "for i in range(2, n):\n",
    "    if n % i == 0:\n",
    "        print(f\"El número {n} es divisible por {i}\")\n",
    "    else:\n",
    "        pass ## No hagas nada"
   ]
  },
  {
   "cell_type": "code",
   "execution_count": 32,
   "id": "c3e408a2",
   "metadata": {},
   "outputs": [
    {
     "name": "stdout",
     "output_type": "stream",
     "text": [
      "Dame un número1311\n",
      "El número no es primo\n"
     ]
    }
   ],
   "source": [
    "### programa para saber si un número es primo o no\n",
    "\n",
    "n = int(input(\"Dame un número\"))\n",
    "\n",
    "counter = 0\n",
    "\n",
    "for i in range(2, n):\n",
    "    if n % i == 0:\n",
    "        counter = counter + 1\n",
    "    else:\n",
    "        pass\n",
    "\n",
    "if counter == 0:\n",
    "    print(\"El número es primo\")\n",
    "else:\n",
    "    print(\"El número no es primo\")"
   ]
  },
  {
   "cell_type": "markdown",
   "id": "2e03ad45",
   "metadata": {},
   "source": [
    "# Ejercicios"
   ]
  },
  {
   "cell_type": "code",
   "execution_count": 35,
   "id": "04a0e06f",
   "metadata": {},
   "outputs": [
    {
     "name": "stdout",
     "output_type": "stream",
     "text": [
      "Dame el valor de n100\n",
      "El valor de la suma es: 5050\n"
     ]
    }
   ],
   "source": [
    "## Escribir un programa que arroje la suma de los primeros n números naturales\n",
    "\n",
    "n = int(input(\"Dame el valor de n\"))\n",
    "\n",
    "suma = 0\n",
    "\n",
    "for i in range(1, n + 1):\n",
    "    suma = suma + i\n",
    "    \n",
    "print(f\"El valor de la suma es: {suma}\")"
   ]
  },
  {
   "cell_type": "code",
   "execution_count": 36,
   "id": "29c41497",
   "metadata": {},
   "outputs": [
    {
     "name": "stdout",
     "output_type": "stream",
     "text": [
      "Cuántos números quieres sumar? 5\n",
      "Dame el número1\n",
      "1\n",
      "Dame el número3\n",
      "3\n",
      "Dame el número5\n",
      "5\n",
      "Dame el número8\n",
      "8\n",
      "Dame el número1\n",
      "1\n",
      "El valor de la suma es 18\n"
     ]
    }
   ],
   "source": [
    "### Escribir un programa que pida al usuario n números y calcule la suma de ellos\n",
    "n = int(input(\"Cuántos números quieres sumar? \"))\n",
    "\n",
    "suma = 0\n",
    "\n",
    "for number in range(1, n + 1):\n",
    "    x = int(input(\"Dame el número\"))\n",
    "    print(x)\n",
    "    suma = suma + x\n",
    "    \n",
    "print(f\"El valor de la suma es {suma}\")"
   ]
  },
  {
   "cell_type": "code",
   "execution_count": 40,
   "id": "e5bca8a6",
   "metadata": {},
   "outputs": [
    {
     "name": "stdout",
     "output_type": "stream",
     "text": [
      "Dime hasta qué número quieres que sume los pares... 15433\n",
      "La suma es 59544372\n"
     ]
    }
   ],
   "source": [
    "### Escribir un programa que le pida al usuario un número y sume los números pares\n",
    "### hasta ese número\n",
    "\n",
    "n = int(input(\"Dime hasta qué número quieres que sume los pares... \"))\n",
    "\n",
    "suma = 0\n",
    "\n",
    "for number in range(1, n + 1):\n",
    "    if number % 2 == 0:\n",
    "        suma = suma + number\n",
    "    else:\n",
    "        pass\n",
    "\n",
    "print(f\"La suma es {suma}\")"
   ]
  },
  {
   "cell_type": "code",
   "execution_count": null,
   "id": "e12d3809",
   "metadata": {},
   "outputs": [],
   "source": []
  },
  {
   "cell_type": "code",
   "execution_count": null,
   "id": "09aeef7a",
   "metadata": {},
   "outputs": [],
   "source": []
  }
 ],
 "metadata": {
  "kernelspec": {
   "display_name": "Python 3",
   "language": "python",
   "name": "python3"
  },
  "language_info": {
   "codemirror_mode": {
    "name": "ipython",
    "version": 3
   },
   "file_extension": ".py",
   "mimetype": "text/x-python",
   "name": "python",
   "nbconvert_exporter": "python",
   "pygments_lexer": "ipython3",
   "version": "3.8.8"
  }
 },
 "nbformat": 4,
 "nbformat_minor": 5
}
