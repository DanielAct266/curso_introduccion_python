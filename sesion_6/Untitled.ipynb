{
 "cells": [
  {
   "cell_type": "markdown",
   "id": "7a0b8aa0",
   "metadata": {},
   "source": [
    "## Sesión 6"
   ]
  },
  {
   "cell_type": "markdown",
   "id": "870c7e54",
   "metadata": {},
   "source": [
    "Recordatorio Ciclo For:"
   ]
  },
  {
   "cell_type": "code",
   "execution_count": 2,
   "id": "c4435e1e",
   "metadata": {},
   "outputs": [
    {
     "name": "stdout",
     "output_type": "stream",
     "text": [
      "1\n",
      "2\n",
      "3\n",
      "4\n",
      "5\n",
      "6\n",
      "7\n",
      "8\n",
      "9\n",
      "10\n"
     ]
    }
   ],
   "source": [
    "for i in range(1, 11):\n",
    "    print(i)"
   ]
  },
  {
   "cell_type": "code",
   "execution_count": 3,
   "id": "751ac445",
   "metadata": {},
   "outputs": [
    {
     "name": "stdout",
     "output_type": "stream",
     "text": [
      "1\n",
      "2\n",
      "4\n",
      "5\n",
      "6\n",
      "7\n"
     ]
    }
   ],
   "source": [
    "for i in [1, 2, 4, 5, 6, 7]:\n",
    "    print(i)"
   ]
  },
  {
   "cell_type": "code",
   "execution_count": 4,
   "id": "701d6adc",
   "metadata": {},
   "outputs": [
    {
     "name": "stdout",
     "output_type": "stream",
     "text": [
      "1\n",
      "2\n",
      "4\n",
      "5\n",
      "6\n",
      "7\n"
     ]
    }
   ],
   "source": [
    "for i in (1, 2, 4, 5, 6, 7):\n",
    "    print(i)"
   ]
  },
  {
   "cell_type": "code",
   "execution_count": 6,
   "id": "7fe8e4b7",
   "metadata": {},
   "outputs": [
    {
     "name": "stdout",
     "output_type": "stream",
     "text": [
      "H\n",
      "o\n",
      "l\n",
      "a\n",
      " \n",
      "c\n",
      "ó\n",
      "m\n",
      "o\n",
      " \n",
      "e\n",
      "s\n",
      "t\n",
      "á\n",
      "s\n"
     ]
    }
   ],
   "source": [
    "for char in 'Hola cómo estás':\n",
    "    print(char)"
   ]
  },
  {
   "cell_type": "code",
   "execution_count": 8,
   "id": "f70c1182",
   "metadata": {},
   "outputs": [
    {
     "name": "stdout",
     "output_type": "stream",
     "text": [
      "2\n",
      "4\n",
      "6\n",
      "8\n",
      "10\n",
      "12\n",
      "14\n",
      "16\n",
      "18\n",
      "20\n",
      "22\n",
      "24\n",
      "26\n",
      "28\n",
      "30\n",
      "32\n",
      "34\n",
      "36\n",
      "38\n",
      "40\n",
      "42\n",
      "44\n",
      "46\n",
      "48\n",
      "50\n",
      "52\n",
      "54\n",
      "56\n",
      "58\n",
      "60\n",
      "62\n",
      "64\n",
      "66\n",
      "68\n",
      "70\n",
      "72\n",
      "74\n",
      "76\n",
      "78\n",
      "80\n",
      "82\n",
      "84\n",
      "86\n",
      "88\n",
      "90\n",
      "92\n",
      "94\n",
      "96\n",
      "98\n",
      "100\n"
     ]
    }
   ],
   "source": [
    "for number in range(1, 101):\n",
    "    if number % 2 == 0:\n",
    "        print(number)"
   ]
  },
  {
   "cell_type": "markdown",
   "id": "e31bd891",
   "metadata": {},
   "source": [
    "## Detectar números primos"
   ]
  },
  {
   "cell_type": "code",
   "execution_count": 15,
   "id": "b71e6cb5",
   "metadata": {},
   "outputs": [
    {
     "name": "stdout",
     "output_type": "stream",
     "text": [
      "Escribe un número... 7\n",
      "2\n",
      "3\n",
      "4\n",
      "5\n",
      "6\n",
      "El número es primo\n"
     ]
    }
   ],
   "source": [
    "number = int(input(\"Escribe un número... \"))\n",
    "\n",
    "counter = 0\n",
    "\n",
    "for i in range(2, number):\n",
    "\n",
    "    print(i)\n",
    "    \n",
    "    if number % i == 0:\n",
    "        counter = counter + 1\n",
    "        break\n",
    "    else:\n",
    "        # pass ## Este se usa cuando se planea escribir código pero no se ha hecho.\n",
    "        continue ### No hagas nada\n",
    "    \n",
    "if counter >= 1:\n",
    "    print(\"El número no es primo\")\n",
    "else:\n",
    "    print(\"El número es primo\")"
   ]
  },
  {
   "cell_type": "markdown",
   "id": "f8e278d0",
   "metadata": {},
   "source": [
    "## Sucesión de Fibonacci"
   ]
  },
  {
   "cell_type": "code",
   "execution_count": 22,
   "id": "0fb46227",
   "metadata": {},
   "outputs": [
    {
     "name": "stdout",
     "output_type": "stream",
     "text": [
      "¿Cuál término de la sucesión de fibonacci quieres? 200\n",
      "El 200-mo término de la sucesión de fibonacci es 280571172992510140037611932413038677189525\n"
     ]
    }
   ],
   "source": [
    "## Escribir un algoritmo que regrese en n-ésimo termino de la sucesión de fibonacci\n",
    "\n",
    "number = int(input(\"¿Cuál término de la sucesión de fibonacci quieres? \")) ## Recordar hacer el casting a int\n",
    "\n",
    "fibonacci = [1, 1]\n",
    "\n",
    "for i in range(2, number):\n",
    "    fib = fibonacci[i-1] + fibonacci[i-2]\n",
    "    fibonacci.append(fib)\n",
    "\n",
    "\n",
    "print(f\"El {number}-mo término de la sucesión de fibonacci es {fibonacci[number - 1]}\")"
   ]
  },
  {
   "cell_type": "markdown",
   "id": "bee935e6",
   "metadata": {},
   "source": [
    "## Ciclo While"
   ]
  },
  {
   "cell_type": "markdown",
   "id": "2f918a93",
   "metadata": {},
   "source": [
    "while condicion_lógica: \\\n",
    "  bloque de código"
   ]
  },
  {
   "cell_type": "code",
   "execution_count": null,
   "id": "429ad08c",
   "metadata": {},
   "outputs": [],
   "source": [
    "condicion_logica = True\n",
    "\n",
    "while condicion_logica:\n",
    "    bloque_de_código"
   ]
  },
  {
   "cell_type": "code",
   "execution_count": 39,
   "id": "eea1b940",
   "metadata": {},
   "outputs": [
    {
     "name": "stdout",
     "output_type": "stream",
     "text": [
      "Escribe tu nombre... jj\n",
      "El nombre no es válido\n",
      "Por favor, escribe tu nombre jj\n",
      "El nombre no es válido\n",
      "Por favor, escribe tu nombre jj\n",
      "El nombre no es válido\n",
      "Por favor, escribe tu nombre jj\n",
      "El nombre no es válido\n",
      "Por favor, escribe tu nombre jj\n",
      "El nombre no es válido\n",
      "Por favor, escribe tu nombre jj\n",
      "El nombre no es válido\n",
      "Por favor, escribe tu nombre jj\n",
      "El nombre no es válido\n",
      "Por favor, escribe tu nombre jj\n",
      "El nombre no es válido\n",
      "Por favor, escribe tu nombre daniel\n",
      "Bienvenido daniel!\n"
     ]
    }
   ],
   "source": [
    "nombre = input(\"Escribe tu nombre... \")\n",
    "\n",
    "while len(nombre) <= 3:\n",
    "    print(\"El nombre no es válido\")\n",
    "    nombre = input(\"Por favor, escribe tu nombre \")\n",
    "    \n",
    "print(f\"Bienvenido {nombre}!\")"
   ]
  },
  {
   "cell_type": "code",
   "execution_count": 26,
   "id": "160d1cf9",
   "metadata": {},
   "outputs": [
    {
     "name": "stdout",
     "output_type": "stream",
     "text": [
      "Dame un número5\n",
      "1\n",
      "2\n",
      "3\n",
      "4\n",
      "5\n"
     ]
    }
   ],
   "source": [
    "## Imprimir los números de 1 a n, utilizando el ciclo while\n",
    "\n",
    "numero = int(input(\"Dame un número\"))\n",
    "\n",
    "i = 1\n",
    "\n",
    "while i <= numero:\n",
    "    print(i)\n",
    "    i = i + 1"
   ]
  },
  {
   "cell_type": "code",
   "execution_count": 29,
   "id": "faecccb0",
   "metadata": {},
   "outputs": [
    {
     "name": "stdout",
     "output_type": "stream",
     "text": [
      "Hasta qué número quieres que imprima los pares... 5\n",
      "2\n",
      "4\n"
     ]
    }
   ],
   "source": [
    "### Imprimir los números pares entre 1 y n usando el ciclo while\n",
    "\n",
    "numero = int(input(\"Hasta qué número quieres que imprima los pares... \"))\n",
    "\n",
    "counter = 1\n",
    "\n",
    "while counter <= numero:\n",
    "    \n",
    "    if counter % 2 == 0:\n",
    "        print(counter)\n",
    "    \n",
    "    counter = counter + 1"
   ]
  },
  {
   "cell_type": "code",
   "execution_count": 31,
   "id": "73abe451",
   "metadata": {},
   "outputs": [
    {
     "name": "stdout",
     "output_type": "stream",
     "text": [
      "Dame un número... 6\n",
      "21\n"
     ]
    }
   ],
   "source": [
    "### Escribir un código que sume los primeros n números naturales usando el ciclo while\n",
    "\n",
    "numero = int(input(\"Dame un número... \"))\n",
    "suma = 0\n",
    "\n",
    "for i in range(1, numero + 1):\n",
    "    suma = suma + i\n",
    "print(suma)"
   ]
  },
  {
   "cell_type": "code",
   "execution_count": 36,
   "id": "2e928bb0",
   "metadata": {},
   "outputs": [
    {
     "name": "stdout",
     "output_type": "stream",
     "text": [
      "Dame un número... 1000\n",
      "El resultado de la suma de los primeros 1000 números naturales es 500500\n"
     ]
    }
   ],
   "source": [
    "numero = int(input(\"Dame un número... \"))\n",
    "\n",
    "suma = 0\n",
    "index = 1\n",
    "\n",
    "while index <= numero:\n",
    "    suma = suma + index\n",
    "    index = index + 1\n",
    "    \n",
    "print(f\"El resultado de la suma de los primeros {numero} números naturales es {suma}\")"
   ]
  },
  {
   "cell_type": "code",
   "execution_count": 35,
   "id": "19ce1615",
   "metadata": {},
   "outputs": [
    {
     "name": "stdout",
     "output_type": "stream",
     "text": [
      "Dame un número... 1000\n",
      "El resultado de la suma de los primeros 1000 números naturales es 500500\n"
     ]
    }
   ],
   "source": [
    "numero = int(input(\"Dame un número... \"))\n",
    "\n",
    "suma = int((numero * (numero + 1))/ 2) ## Casting the float a int --> Poliformismo (OOP)\n",
    "print(f\"El resultado de la suma de los primeros {numero} números naturales es {suma}\")"
   ]
  },
  {
   "cell_type": "code",
   "execution_count": 38,
   "id": "207b7a05",
   "metadata": {},
   "outputs": [
    {
     "name": "stdout",
     "output_type": "stream",
     "text": [
      "Dame un numero... 7\n",
      "El resultado del producto de los primeros 7 números naturales es 5040\n"
     ]
    }
   ],
   "source": [
    "### Realizar el producto de los primeros n números naturales:\n",
    "\n",
    "numero = int(input(\"Dame un numero... \"))\n",
    "\n",
    "producto = 1\n",
    "\n",
    "for i in range(1, numero + 1):\n",
    "    producto = producto * i\n",
    "\n",
    "print(f\"El resultado del producto de los primeros {numero} números naturales es {producto}\")\n",
    "### Factorial"
   ]
  },
  {
   "cell_type": "code",
   "execution_count": 43,
   "id": "4cabdb43",
   "metadata": {},
   "outputs": [
    {
     "name": "stdout",
     "output_type": "stream",
     "text": [
      "¿De qué número quieres calcular el factorial? 5\n",
      "El factorial de 5 números naturales es 120\n"
     ]
    }
   ],
   "source": [
    "## Realizar el producto de los primeros n números naturales con un ciclo while\n",
    "\n",
    "numero = int(input(\"¿De qué número quieres calcular el factorial? \"))\n",
    "\n",
    "producto = 1\n",
    "index = 1\n",
    "\n",
    "while index <= numero:\n",
    "    producto = producto * index\n",
    "    index = index + 1\n",
    "\n",
    "print(f\"El factorial de {numero} números naturales es {producto}\")"
   ]
  },
  {
   "cell_type": "code",
   "execution_count": 44,
   "id": "99f20e6d",
   "metadata": {},
   "outputs": [],
   "source": [
    "def factorial(n):\n",
    "    if n == 1:\n",
    "        return 1\n",
    "    else:\n",
    "        return n * factorial(n-1)"
   ]
  },
  {
   "cell_type": "code",
   "execution_count": 60,
   "id": "303a01da",
   "metadata": {},
   "outputs": [],
   "source": [
    "import matplotlib.pyplot as plt\n",
    "import numpy as np"
   ]
  },
  {
   "cell_type": "code",
   "execution_count": 52,
   "id": "3df944e9",
   "metadata": {},
   "outputs": [],
   "source": [
    "plt.style.use(\"ggplot\")"
   ]
  },
  {
   "cell_type": "code",
   "execution_count": 56,
   "id": "7f9a130e",
   "metadata": {},
   "outputs": [],
   "source": [
    "domain = [x for x in range(1, 10)]"
   ]
  },
  {
   "cell_type": "code",
   "execution_count": 62,
   "id": "5e7ed20e",
   "metadata": {},
   "outputs": [
    {
     "data": {
      "image/png": "[encoded data removed]",
      "text/plain": [
       "<Figure size 432x288 with 1 Axes>"
      ]
     },
     "metadata": {},
     "output_type": "display_data"
    }
   ],
   "source": [
    "expp = [np.exp(x) for x in domain]\n",
    "fact = [factorial(x) for x in domain]\n",
    "squared = [x**5 for x in domain]\n",
    "\n",
    "plt.plot(domain, squared, color= 'red', label='Fifth Function')\n",
    "plt.plot(domain, fact, color='darkblue', label='Factorial')\n",
    "plt.plot(domain, expp, color='darkgreen', label='Exponencial')\n",
    "plt.legend()\n",
    "plt.show()"
   ]
  },
  {
   "cell_type": "code",
   "execution_count": null,
   "id": "5161f4dd",
   "metadata": {},
   "outputs": [],
   "source": []
  }
 ],
 "metadata": {
  "kernelspec": {
   "display_name": "Python 3",
   "language": "python",
   "name": "python3"
  },
  "language_info": {
   "codemirror_mode": {
    "name": "ipython",
    "version": 3
   },
   "file_extension": ".py",
   "mimetype": "text/x-python",
   "name": "python",
   "nbconvert_exporter": "python",
   "pygments_lexer": "ipython3",
   "version": "3.8.8"
  }
 },
 "nbformat": 4,
 "nbformat_minor": 5
}
